{
 "cells": [
  {
   "cell_type": "markdown",
   "id": "a50702cb",
   "metadata": {},
   "source": [
    "# Интеллектуальный анализ работы хранилища данных на основании обработки логов \"Ростелеком\""
   ]
  },
  {
   "cell_type": "code",
   "execution_count": 1,
   "id": "7fc010b8",
   "metadata": {},
   "outputs": [],
   "source": [
    "import pandas as pd\n",
    "import regex as re\n",
    "import matplotlib.pyplot as plt\n",
    "import seaborn as sns"
   ]
  },
  {
   "cell_type": "code",
   "execution_count": 2,
   "id": "b493e067",
   "metadata": {
    "scrolled": true
   },
   "outputs": [],
   "source": [
    "data = pd.read_csv('log_week_end.csv')\n",
    "data.rename(columns={'query': 'q'}, inplace=True)"
   ]
  },
  {
   "cell_type": "code",
   "execution_count": 3,
   "id": "1b7e49a8",
   "metadata": {},
   "outputs": [
    {
     "data": {
      "text/html": [
       "<div>\n",
       "<style scoped>\n",
       "    .dataframe tbody tr th:only-of-type {\n",
       "        vertical-align: middle;\n",
       "    }\n",
       "\n",
       "    .dataframe tbody tr th {\n",
       "        vertical-align: top;\n",
       "    }\n",
       "\n",
       "    .dataframe thead th {\n",
       "        text-align: right;\n",
       "    }\n",
       "</style>\n",
       "<table border=\"1\" class=\"dataframe\">\n",
       "  <thead>\n",
       "    <tr style=\"text-align: right;\">\n",
       "      <th></th>\n",
       "      <th>rn</th>\n",
       "      <th>loguser</th>\n",
       "      <th>q</th>\n",
       "    </tr>\n",
       "  </thead>\n",
       "  <tbody>\n",
       "    <tr>\n",
       "      <th>43079</th>\n",
       "      <td>898654</td>\n",
       "      <td>etl_528</td>\n",
       "      <td>from tbl_50065</td>\n",
       "    </tr>\n",
       "    <tr>\n",
       "      <th>621445</th>\n",
       "      <td>654191</td>\n",
       "      <td>etl_1151</td>\n",
       "      <td>into tbl_21349,join tbl_21349</td>\n",
       "    </tr>\n",
       "    <tr>\n",
       "      <th>305707</th>\n",
       "      <td>975167</td>\n",
       "      <td>dev_1136</td>\n",
       "      <td>from tbl_212291</td>\n",
       "    </tr>\n",
       "    <tr>\n",
       "      <th>539382</th>\n",
       "      <td>664335</td>\n",
       "      <td>etl_2048</td>\n",
       "      <td>from tbl_211222</td>\n",
       "    </tr>\n",
       "    <tr>\n",
       "      <th>499136</th>\n",
       "      <td>608215</td>\n",
       "      <td>dev_1586</td>\n",
       "      <td>into tbl_211513</td>\n",
       "    </tr>\n",
       "  </tbody>\n",
       "</table>\n",
       "</div>"
      ],
      "text/plain": [
       "            rn   loguser                              q\n",
       "43079   898654   etl_528                 from tbl_50065\n",
       "621445  654191  etl_1151  into tbl_21349,join tbl_21349\n",
       "305707  975167  dev_1136                from tbl_212291\n",
       "539382  664335  etl_2048                from tbl_211222\n",
       "499136  608215  dev_1586                into tbl_211513"
      ]
     },
     "execution_count": 3,
     "metadata": {},
     "output_type": "execute_result"
    }
   ],
   "source": [
    "data.sample(5)"
   ]
  },
  {
   "cell_type": "code",
   "execution_count": 4,
   "id": "c3457b42",
   "metadata": {},
   "outputs": [],
   "source": [
    "data_copy = data.copy()"
   ]
  },
  {
   "cell_type": "markdown",
   "id": "2213c29f",
   "metadata": {},
   "source": [
    "## Определение метрики \"бесполезности\" таблицы"
   ]
  },
  {
   "cell_type": "code",
   "execution_count": 5,
   "id": "5ce1d9af",
   "metadata": {},
   "outputs": [],
   "source": [
    "data.q = data.q.str.lower().str.split(',')"
   ]
  },
  {
   "cell_type": "code",
   "execution_count": 6,
   "id": "9464c45f",
   "metadata": {},
   "outputs": [],
   "source": [
    "# cобираем в списки все команды\n",
    "intos, froms, joins = [], [], []\n",
    "\n",
    "for x in data.q:\n",
    "    for g in x:\n",
    "        if 'join' in g:\n",
    "            joins.append(g)\n",
    "        if 'into' in g:\n",
    "            intos.append(g)\n",
    "            \n",
    "for x in data[data.loguser.str.contains('dev')].q:\n",
    "    for g in x:\n",
    "        if 'from' in g:\n",
    "            froms.append(g)"
   ]
  },
  {
   "cell_type": "code",
   "execution_count": 7,
   "id": "5a07e000",
   "metadata": {},
   "outputs": [],
   "source": [
    "# оставляем только название таблиц\n",
    "intos_tbs = [re.search('tbl_\\d*', x).group(0) for x in intos]\n",
    "froms_tbs = [re.search('tbl_\\d*', x).group(0) for x in froms]\n",
    "joins_tbs = [re.search('tbl_\\d*', x).group(0) for x in joins]"
   ]
  },
  {
   "cell_type": "code",
   "execution_count": 8,
   "id": "76458672",
   "metadata": {},
   "outputs": [],
   "source": [
    "# функция для датафрейма\n",
    "def create_df(input_data, column):\n",
    "    df = pd.DataFrame(data = input_data, columns=['col']).groupby('col').agg({'col': 'count'})\n",
    "    df.columns= [column]\n",
    "    df.reset_index(inplace=True)\n",
    "    return df"
   ]
  },
  {
   "cell_type": "code",
   "execution_count": 9,
   "id": "43a73062",
   "metadata": {},
   "outputs": [],
   "source": [
    "# делаем датафрейм с количество from (from только от пользователей dev) при помощи функции `create_df`\n",
    "df1 = create_df(froms_tbs, 'count_froms')"
   ]
  },
  {
   "cell_type": "code",
   "execution_count": 10,
   "id": "4128e1b4",
   "metadata": {},
   "outputs": [],
   "source": [
    "# делаем датафрейм с кол-ом join\n",
    "df3 = create_df(joins_tbs, 'count_joins')"
   ]
  },
  {
   "cell_type": "code",
   "execution_count": 11,
   "id": "a25c9c72",
   "metadata": {},
   "outputs": [],
   "source": [
    "# функция для объединения\n",
    "def merge_df(data1, data2):\n",
    "    data = data1.merge(data2, on ='col', how='outer')\n",
    "    data = data.fillna(0)\n",
    "    return data"
   ]
  },
  {
   "cell_type": "code",
   "execution_count": 12,
   "id": "0bb3d5ec",
   "metadata": {
    "scrolled": true
   },
   "outputs": [],
   "source": [
    "# объединим join и from при помощи merge_df\n",
    "df1 = merge_df(df1,df3)"
   ]
  },
  {
   "cell_type": "code",
   "execution_count": 13,
   "id": "9547a6e7",
   "metadata": {},
   "outputs": [],
   "source": [
    "# датафрейм с кол-ом into\n",
    "df2 = create_df(intos_tbs, 'count_intos')\n",
    "df = merge_df(df1,df2)\n",
    "df.count_intos = df.count_intos + 1\n",
    "# определяем метрику \"бесполезности\" \n",
    "df['useless'] = df['count_intos'] / df['count_froms']\n",
    "df.fillna(0, inplace=True)"
   ]
  },
  {
   "cell_type": "code",
   "execution_count": 14,
   "id": "0f9ec0f0",
   "metadata": {},
   "outputs": [],
   "source": [
    "#включаем опцию, где inf (бесконечность) считаем как NaN\n",
    "pd.set_option('mode.use_inf_as_na', True) "
   ]
  },
  {
   "cell_type": "code",
   "execution_count": 15,
   "id": "e84b437b",
   "metadata": {
    "scrolled": true
   },
   "outputs": [
    {
     "data": {
      "text/html": [
       "<div>\n",
       "<style scoped>\n",
       "    .dataframe tbody tr th:only-of-type {\n",
       "        vertical-align: middle;\n",
       "    }\n",
       "\n",
       "    .dataframe tbody tr th {\n",
       "        vertical-align: top;\n",
       "    }\n",
       "\n",
       "    .dataframe thead th {\n",
       "        text-align: right;\n",
       "    }\n",
       "</style>\n",
       "<table border=\"1\" class=\"dataframe\">\n",
       "  <thead>\n",
       "    <tr style=\"text-align: right;\">\n",
       "      <th></th>\n",
       "      <th>col</th>\n",
       "      <th>count_froms</th>\n",
       "      <th>count_joins</th>\n",
       "      <th>count_intos</th>\n",
       "      <th>useless</th>\n",
       "    </tr>\n",
       "  </thead>\n",
       "  <tbody>\n",
       "    <tr>\n",
       "      <th>1463</th>\n",
       "      <td>tbl_211513</td>\n",
       "      <td>8.0</td>\n",
       "      <td>1.0</td>\n",
       "      <td>9594.0</td>\n",
       "      <td>1199.250000</td>\n",
       "    </tr>\n",
       "    <tr>\n",
       "      <th>1692</th>\n",
       "      <td>tbl_29455</td>\n",
       "      <td>1.0</td>\n",
       "      <td>1595.0</td>\n",
       "      <td>471.0</td>\n",
       "      <td>471.000000</td>\n",
       "    </tr>\n",
       "    <tr>\n",
       "      <th>1636</th>\n",
       "      <td>tbl_26776</td>\n",
       "      <td>1.0</td>\n",
       "      <td>3083.0</td>\n",
       "      <td>469.0</td>\n",
       "      <td>469.000000</td>\n",
       "    </tr>\n",
       "    <tr>\n",
       "      <th>1644</th>\n",
       "      <td>tbl_27182</td>\n",
       "      <td>1.0</td>\n",
       "      <td>8208.0</td>\n",
       "      <td>465.0</td>\n",
       "      <td>465.000000</td>\n",
       "    </tr>\n",
       "    <tr>\n",
       "      <th>1462</th>\n",
       "      <td>tbl_211512</td>\n",
       "      <td>21.0</td>\n",
       "      <td>0.0</td>\n",
       "      <td>3139.0</td>\n",
       "      <td>149.476190</td>\n",
       "    </tr>\n",
       "    <tr>\n",
       "      <th>652</th>\n",
       "      <td>tbl_15647</td>\n",
       "      <td>2.0</td>\n",
       "      <td>0.0</td>\n",
       "      <td>203.0</td>\n",
       "      <td>101.500000</td>\n",
       "    </tr>\n",
       "    <tr>\n",
       "      <th>1919</th>\n",
       "      <td>tbl_44933</td>\n",
       "      <td>10.0</td>\n",
       "      <td>0.0</td>\n",
       "      <td>881.0</td>\n",
       "      <td>88.100000</td>\n",
       "    </tr>\n",
       "    <tr>\n",
       "      <th>1520</th>\n",
       "      <td>tbl_23594</td>\n",
       "      <td>1.0</td>\n",
       "      <td>0.0</td>\n",
       "      <td>54.0</td>\n",
       "      <td>54.000000</td>\n",
       "    </tr>\n",
       "    <tr>\n",
       "      <th>1466</th>\n",
       "      <td>tbl_211522</td>\n",
       "      <td>32.0</td>\n",
       "      <td>0.0</td>\n",
       "      <td>1171.0</td>\n",
       "      <td>36.593750</td>\n",
       "    </tr>\n",
       "    <tr>\n",
       "      <th>1548</th>\n",
       "      <td>tbl_23770</td>\n",
       "      <td>12.0</td>\n",
       "      <td>0.0</td>\n",
       "      <td>325.0</td>\n",
       "      <td>27.083333</td>\n",
       "    </tr>\n",
       "  </tbody>\n",
       "</table>\n",
       "</div>"
      ],
      "text/plain": [
       "             col  count_froms  count_joins  count_intos      useless\n",
       "1463  tbl_211513          8.0          1.0       9594.0  1199.250000\n",
       "1692   tbl_29455          1.0       1595.0        471.0   471.000000\n",
       "1636   tbl_26776          1.0       3083.0        469.0   469.000000\n",
       "1644   tbl_27182          1.0       8208.0        465.0   465.000000\n",
       "1462  tbl_211512         21.0          0.0       3139.0   149.476190\n",
       "652    tbl_15647          2.0          0.0        203.0   101.500000\n",
       "1919   tbl_44933         10.0          0.0        881.0    88.100000\n",
       "1520   tbl_23594          1.0          0.0         54.0    54.000000\n",
       "1466  tbl_211522         32.0          0.0       1171.0    36.593750\n",
       "1548   tbl_23770         12.0          0.0        325.0    27.083333"
      ]
     },
     "execution_count": 15,
     "metadata": {},
     "output_type": "execute_result"
    }
   ],
   "source": [
    "# ТОП-10 \"бесполезных таблиц\"\n",
    "df.sort_values(by = 'useless', ascending = False, inplace = True)\n",
    "df.head(10)"
   ]
  },
  {
   "cell_type": "markdown",
   "id": "d1609599",
   "metadata": {},
   "source": [
    "## Распределение пользователей по кол-ву запросов"
   ]
  },
  {
   "cell_type": "code",
   "execution_count": 16,
   "id": "2282af97",
   "metadata": {},
   "outputs": [],
   "source": [
    "# сгруппируем по пользователям\n",
    "data_users = data.groupby('loguser').agg({'rn':'nunique'}).sort_values('rn', ascending=False).reset_index()\n",
    "data_users= data_users.rename(columns={'rn':'count_rn'})"
   ]
  },
  {
   "cell_type": "code",
   "execution_count": 17,
   "id": "85dd290a",
   "metadata": {},
   "outputs": [],
   "source": [
    "# разделим пользователей\n",
    "etl_users = data_users[data_users['loguser'].str.startswith('etl')]\n",
    "dev_users = data_users[data_users['loguser'].str.startswith('dev')]"
   ]
  },
  {
   "cell_type": "code",
   "execution_count": 18,
   "id": "4ad7d36a",
   "metadata": {},
   "outputs": [
    {
     "data": {
      "image/png": "[encoded data removed]",
      "text/plain": [
       "<Figure size 1224x1008 with 2 Axes>"
      ]
     },
     "metadata": {
      "needs_background": "light"
     },
     "output_type": "display_data"
    }
   ],
   "source": [
    "# TОП-10 кол-ва запросов для etl/dev\n",
    "plt.figure(figsize=(17, 14)) \n",
    "\n",
    "ax1 = plt.subplot(2, 1, 1)\n",
    "ax1 = sns.barplot(data = etl_users.head(10), x = 'loguser', y = 'count_rn', color = 'cornflowerblue')\n",
    "ax1.set_title('ТОП-10 \"etl\"-пользователей по количеству запросов')\n",
    "ax1.set_xlabel('Логин пользователя')\n",
    "ax1.set_ylabel('Количество запросов')\n",
    "plt.axhline(y=etl_users['count_rn'].mean(), label = 'Среднее количество запросов', color =\"red\", linestyle =\"--\")\n",
    "plt.legend()\n",
    "\n",
    "ax2 = plt.subplot(2, 1, 2)\n",
    "ax2 = sns.barplot(data = dev_users.head(10), x = 'loguser', y = 'count_rn', color = 'lightseagreen')\n",
    "ax2.set_title('ТОП-10 \"dev\"-пользователей по количеству запросов')\n",
    "ax2.set_xlabel('Логин пользователя')\n",
    "ax2.set_ylabel('Количество запросов')\n",
    "plt.axhline(y=dev_users['count_rn'].mean(), label = 'Среднее количество запросов', color =\"red\", linestyle =\"--\")\n",
    "plt.legend()\n",
    "plt.show()"
   ]
  },
  {
   "cell_type": "markdown",
   "id": "f137608e",
   "metadata": {},
   "source": [
    "## Распределение по количеству действий в запросе"
   ]
  },
  {
   "cell_type": "code",
   "execution_count": 19,
   "id": "97c22004",
   "metadata": {},
   "outputs": [],
   "source": [
    "# разделим значения в запросах по запятой и сгруппируем по пользователю\n",
    "data_copy['count_q'] = data_copy['q'].apply(lambda x: x.split(\",\"))\n",
    "data_count_q = data_copy.explode('count_q')\n",
    "df_exp = data_count_q.copy()\n",
    "data_count_q = data_count_q.groupby('loguser').agg({'count_q':'count'}).sort_values('count_q', ascending=False).reset_index()"
   ]
  },
  {
   "cell_type": "code",
   "execution_count": 20,
   "id": "4ff6bc0f",
   "metadata": {},
   "outputs": [],
   "source": [
    "# разделим пользователей\n",
    "etl_count_q = data_count_q[data_count_q['loguser'].str.startswith('etl')]\n",
    "dev_count_q = data_count_q[data_count_q['loguser'].str.startswith('dev')]"
   ]
  },
  {
   "cell_type": "code",
   "execution_count": 21,
   "id": "f0674060",
   "metadata": {},
   "outputs": [
    {
     "data": {
      "image/png": "[encoded data removed]",
      "text/plain": [
       "<Figure size 1224x1008 with 2 Axes>"
      ]
     },
     "metadata": {
      "needs_background": "light"
     },
     "output_type": "display_data"
    }
   ],
   "source": [
    "#TОП-10 кол-ва действий в запросах для etl/dev\n",
    "plt.figure(figsize=(17, 14)) #TОП-10 кол-ва действий для etl/dev\n",
    "\n",
    "ax1 = plt.subplot(2, 1, 1)\n",
    "ax1 = sns.barplot(data = etl_count_q.head(10), x = 'loguser', y = 'count_q', color = 'cornflowerblue')\n",
    "ax1.set_title('ТОП-10 \"etl\"-пользователей по количеству действий в запросах')\n",
    "ax1.set_xlabel('Логин пользователя')\n",
    "ax1.set_ylabel('Количество действий в запросах')\n",
    "plt.axhline(y=etl_count_q['count_q'].mean(), label = 'Среднее количество действий', color =\"red\", linestyle =\"--\")\n",
    "plt.legend()\n",
    "\n",
    "ax2 = plt.subplot(2, 1, 2)\n",
    "ax2 = sns.barplot(data = dev_count_q.head(10), x = 'loguser', y = 'count_q', color = 'lightseagreen')\n",
    "ax2.set_title('ТОП-10 \"dev\"-пользователей по количеству действий в запросах')\n",
    "ax2.set_xlabel('Логин пользователя')\n",
    "ax2.set_ylabel('Количество действий в запросах')\n",
    "plt.axhline(y=dev_count_q['count_q'].mean(), label = 'Среднее количество действий', color =\"red\", linestyle =\"--\")\n",
    "plt.legend()\n",
    "plt.show()"
   ]
  },
  {
   "cell_type": "markdown",
   "id": "b13120e7",
   "metadata": {},
   "source": [
    "## Датафрейм - пользователь/таблица/кол-во действий в запросе"
   ]
  },
  {
   "cell_type": "code",
   "execution_count": 22,
   "id": "7d5b0b12",
   "metadata": {},
   "outputs": [],
   "source": [
    "# датафрейм для определения кол-ва действий в запросе пользователя к таблице \n",
    "df_exp = df_exp.groupby(['loguser','count_q']).agg({'count_q':'count'}).rename(columns={'count_q':'q'})\n",
    "df_exp = df_exp.reset_index()\n",
    "df_exp['tab'] = [re.search('tbl_\\d*', x).group(0) for x in df_exp['count_q']]\n",
    "df_exp = df_exp[['loguser', 'q', 'tab']]\n",
    "df_exp = df_exp.rename(columns={'q':'count'}).sort_values('count', ascending=False)"
   ]
  },
  {
   "cell_type": "code",
   "execution_count": 23,
   "id": "6c8bbdf3",
   "metadata": {},
   "outputs": [
    {
     "data": {
      "text/html": [
       "<div>\n",
       "<style scoped>\n",
       "    .dataframe tbody tr th:only-of-type {\n",
       "        vertical-align: middle;\n",
       "    }\n",
       "\n",
       "    .dataframe tbody tr th {\n",
       "        vertical-align: top;\n",
       "    }\n",
       "\n",
       "    .dataframe thead th {\n",
       "        text-align: right;\n",
       "    }\n",
       "</style>\n",
       "<table border=\"1\" class=\"dataframe\">\n",
       "  <thead>\n",
       "    <tr style=\"text-align: right;\">\n",
       "      <th></th>\n",
       "      <th>loguser</th>\n",
       "      <th>count</th>\n",
       "      <th>tab</th>\n",
       "    </tr>\n",
       "  </thead>\n",
       "  <tbody>\n",
       "    <tr>\n",
       "      <th>2690</th>\n",
       "      <td>dev_332</td>\n",
       "      <td>27247</td>\n",
       "      <td>tbl_7207</td>\n",
       "    </tr>\n",
       "    <tr>\n",
       "      <th>2611</th>\n",
       "      <td>dev_332</td>\n",
       "      <td>27242</td>\n",
       "      <td>tbl_11022</td>\n",
       "    </tr>\n",
       "    <tr>\n",
       "      <th>60963</th>\n",
       "      <td>etl_1358</td>\n",
       "      <td>11262</td>\n",
       "      <td>tbl_33595</td>\n",
       "    </tr>\n",
       "    <tr>\n",
       "      <th>60958</th>\n",
       "      <td>etl_1358</td>\n",
       "      <td>11256</td>\n",
       "      <td>tbl_33623</td>\n",
       "    </tr>\n",
       "    <tr>\n",
       "      <th>1272</th>\n",
       "      <td>dev_1586</td>\n",
       "      <td>9593</td>\n",
       "      <td>tbl_211513</td>\n",
       "    </tr>\n",
       "    <tr>\n",
       "      <th>55826</th>\n",
       "      <td>etl_1151</td>\n",
       "      <td>7743</td>\n",
       "      <td>tbl_27182</td>\n",
       "    </tr>\n",
       "    <tr>\n",
       "      <th>54660</th>\n",
       "      <td>etl_1151</td>\n",
       "      <td>7038</td>\n",
       "      <td>tbl_20007</td>\n",
       "    </tr>\n",
       "    <tr>\n",
       "      <th>52212</th>\n",
       "      <td>etl_1151</td>\n",
       "      <td>7038</td>\n",
       "      <td>tbl_14714</td>\n",
       "    </tr>\n",
       "    <tr>\n",
       "      <th>59926</th>\n",
       "      <td>etl_1157</td>\n",
       "      <td>4144</td>\n",
       "      <td>tbl_33595</td>\n",
       "    </tr>\n",
       "    <tr>\n",
       "      <th>59725</th>\n",
       "      <td>etl_1157</td>\n",
       "      <td>4144</td>\n",
       "      <td>tbl_33623</td>\n",
       "    </tr>\n",
       "  </tbody>\n",
       "</table>\n",
       "</div>"
      ],
      "text/plain": [
       "        loguser  count         tab\n",
       "2690    dev_332  27247    tbl_7207\n",
       "2611    dev_332  27242   tbl_11022\n",
       "60963  etl_1358  11262   tbl_33595\n",
       "60958  etl_1358  11256   tbl_33623\n",
       "1272   dev_1586   9593  tbl_211513\n",
       "55826  etl_1151   7743   tbl_27182\n",
       "54660  etl_1151   7038   tbl_20007\n",
       "52212  etl_1151   7038   tbl_14714\n",
       "59926  etl_1157   4144   tbl_33595\n",
       "59725  etl_1157   4144   tbl_33623"
      ]
     },
     "execution_count": 23,
     "metadata": {},
     "output_type": "execute_result"
    }
   ],
   "source": [
    "# ТОП-10 таблиц по кол-ву действий в запросе\n",
    "df_exp.head(10)"
   ]
  }
 ],
 "metadata": {
  "kernelspec": {
   "display_name": "Python 3 (ipykernel)",
   "language": "python",
   "name": "python3"
  },
  "language_info": {
   "codemirror_mode": {
    "name": "ipython",
    "version": 3
   },
   "file_extension": ".py",
   "mimetype": "text/x-python",
   "name": "python",
   "nbconvert_exporter": "python",
   "pygments_lexer": "ipython3",
   "version": "3.9.12"
  }
 },
 "nbformat": 4,
 "nbformat_minor": 5
}
