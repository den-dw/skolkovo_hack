{
 "cells": [
  {
   "cell_type": "code",
   "execution_count": 128,
   "id": "7fc010b8",
   "metadata": {},
   "outputs": [],
   "source": [
    "import pandas as pd\n",
    "import regex as re"
   ]
  },
  {
   "cell_type": "code",
   "execution_count": 129,
   "id": "b493e067",
   "metadata": {
    "scrolled": true
   },
   "outputs": [],
   "source": [
    "data = pd.read_csv('log_week_end.csv')\n",
    "data.rename(columns={'query': 'q'}, inplace=True)"
   ]
  },
  {
   "cell_type": "code",
   "execution_count": 130,
   "id": "1b7e49a8",
   "metadata": {},
   "outputs": [
    {
     "data": {
      "text/html": [
       "<div>\n",
       "<style scoped>\n",
       "    .dataframe tbody tr th:only-of-type {\n",
       "        vertical-align: middle;\n",
       "    }\n",
       "\n",
       "    .dataframe tbody tr th {\n",
       "        vertical-align: top;\n",
       "    }\n",
       "\n",
       "    .dataframe thead th {\n",
       "        text-align: right;\n",
       "    }\n",
       "</style>\n",
       "<table border=\"1\" class=\"dataframe\">\n",
       "  <thead>\n",
       "    <tr style=\"text-align: right;\">\n",
       "      <th></th>\n",
       "      <th>rn</th>\n",
       "      <th>loguser</th>\n",
       "      <th>q</th>\n",
       "    </tr>\n",
       "  </thead>\n",
       "  <tbody>\n",
       "    <tr>\n",
       "      <th>101785</th>\n",
       "      <td>129531</td>\n",
       "      <td>dev_359</td>\n",
       "      <td>join tbl_33570,join tbl_33595,join tbl_33623</td>\n",
       "    </tr>\n",
       "    <tr>\n",
       "      <th>415481</th>\n",
       "      <td>717519</td>\n",
       "      <td>etl_2048</td>\n",
       "      <td>from tbl_142463</td>\n",
       "    </tr>\n",
       "    <tr>\n",
       "      <th>128502</th>\n",
       "      <td>652979</td>\n",
       "      <td>etl_2048</td>\n",
       "      <td>from tbl_96226,into tbl_96259</td>\n",
       "    </tr>\n",
       "    <tr>\n",
       "      <th>331316</th>\n",
       "      <td>921644</td>\n",
       "      <td>dev_53</td>\n",
       "      <td>from tbl_180459</td>\n",
       "    </tr>\n",
       "    <tr>\n",
       "      <th>494704</th>\n",
       "      <td>922155</td>\n",
       "      <td>etl_2048</td>\n",
       "      <td>from tbl_137694,from tbl_137729</td>\n",
       "    </tr>\n",
       "  </tbody>\n",
       "</table>\n",
       "</div>"
      ],
      "text/plain": [
       "            rn   loguser                                             q\n",
       "101785  129531   dev_359  join tbl_33570,join tbl_33595,join tbl_33623\n",
       "415481  717519  etl_2048                               from tbl_142463\n",
       "128502  652979  etl_2048                 from tbl_96226,into tbl_96259\n",
       "331316  921644    dev_53                               from tbl_180459\n",
       "494704  922155  etl_2048               from tbl_137694,from tbl_137729"
      ]
     },
     "execution_count": 130,
     "metadata": {},
     "output_type": "execute_result"
    }
   ],
   "source": [
    "data.sample(5)"
   ]
  },
  {
   "cell_type": "code",
   "execution_count": 133,
   "id": "5ce1d9af",
   "metadata": {},
   "outputs": [],
   "source": [
    "data.q = data.q.str.lower().str.split(',')"
   ]
  },
  {
   "cell_type": "markdown",
   "id": "df6f5ee7",
   "metadata": {},
   "source": [
    "Собираем в списки все команды"
   ]
  },
  {
   "cell_type": "code",
   "execution_count": 136,
   "id": "e97d617a",
   "metadata": {},
   "outputs": [],
   "source": [
    "intos, froms, joins = [], [], []"
   ]
  },
  {
   "cell_type": "code",
   "execution_count": 139,
   "id": "5e2e1db3",
   "metadata": {
    "scrolled": true
   },
   "outputs": [
    {
     "data": {
      "text/plain": [
       "\"\\n%%time\\nfor index, row in data.iterrows():\\n    for x in row.q:\\n        if 'from' in x:\\n            froms.append(x)\\n        if 'into' in x:\\n            intos.append(x)\\n        if 'join' in x:\\n            joins.append(x)\\n\""
      ]
     },
     "execution_count": 139,
     "metadata": {},
     "output_type": "execute_result"
    }
   ],
   "source": [
    "'''\n",
    "выглядит карисивее но выполняется в 42 раза медленне, чем вариант ниже\n",
    "%%time\n",
    "for index, row in data.iterrows():\n",
    "    for x in row.q:\n",
    "        if 'from' in x:\n",
    "            froms.append(x)\n",
    "        if 'into' in x:\n",
    "            intos.append(x)\n",
    "        if 'join' in x:\n",
    "            joins.append(x)\n",
    "'''"
   ]
  },
  {
   "cell_type": "code",
   "execution_count": 137,
   "id": "9464c45f",
   "metadata": {},
   "outputs": [
    {
     "name": "stdout",
     "output_type": "stream",
     "text": [
      "Wall time: 569 ms\n"
     ]
    }
   ],
   "source": [
    "%%time\n",
    "for x in data.q:\n",
    "    for g in x:\n",
    "        if 'join' in g:\n",
    "            joins.append(g)\n",
    "        if 'into' in g:\n",
    "            intos.append(g)\n",
    "            \n",
    "for x in data[data.loguser.str.contains('dev')].q:\n",
    "    for g in x:\n",
    "        if 'from' in g:\n",
    "            froms.append(g)"
   ]
  },
  {
   "cell_type": "markdown",
   "id": "423b6ad0",
   "metadata": {},
   "source": [
    "Оставляем только название таблиц"
   ]
  },
  {
   "cell_type": "code",
   "execution_count": 142,
   "id": "5a07e000",
   "metadata": {},
   "outputs": [],
   "source": [
    "intos_tbs = [re.search('tbl_\\d*', x).group(0) for x in intos]\n",
    "froms_tbs = [re.search('tbl_\\d*', x).group(0) for x in froms]\n",
    "joins_tbs = [re.search('tbl_\\d*', x).group(0) for x in joins]"
   ]
  },
  {
   "cell_type": "markdown",
   "id": "5a5fb514",
   "metadata": {},
   "source": [
    "Делаем датафрейм с количество from (from только от пользователей dev) при помощи функции `create_df`"
   ]
  },
  {
   "cell_type": "code",
   "execution_count": 144,
   "id": "76458672",
   "metadata": {},
   "outputs": [],
   "source": [
    "def create_df(input_data, column):\n",
    "    df = pd.DataFrame(data = input_data, columns=['col']).groupby('col').agg({'col': 'count'})\n",
    "    df.columns= [column]\n",
    "    df.reset_index(inplace=True)\n",
    "    return df"
   ]
  },
  {
   "cell_type": "code",
   "execution_count": 145,
   "id": "43a73062",
   "metadata": {},
   "outputs": [],
   "source": [
    "df1 = create_df(froms_tbs, 'count_froms')"
   ]
  },
  {
   "cell_type": "markdown",
   "id": "de48eaba",
   "metadata": {},
   "source": [
    "**Делаем дф с кол-ом join**"
   ]
  },
  {
   "cell_type": "code",
   "execution_count": 147,
   "id": "4128e1b4",
   "metadata": {},
   "outputs": [],
   "source": [
    "df3 = create_df(joins_tbs, 'count_joins')"
   ]
  },
  {
   "cell_type": "markdown",
   "id": "2ac67efb",
   "metadata": {},
   "source": [
    "Объединим join и from при помощи `merge_df`:"
   ]
  },
  {
   "cell_type": "code",
   "execution_count": 148,
   "id": "a25c9c72",
   "metadata": {},
   "outputs": [],
   "source": [
    "def merge_df(data1, data2):\n",
    "    data = data1.merge(data2, on ='col', how='outer')\n",
    "    data = data.fillna(0)\n",
    "    return data"
   ]
  },
  {
   "cell_type": "code",
   "execution_count": 149,
   "id": "0bb3d5ec",
   "metadata": {
    "scrolled": true
   },
   "outputs": [
    {
     "data": {
      "text/html": [
       "<div>\n",
       "<style scoped>\n",
       "    .dataframe tbody tr th:only-of-type {\n",
       "        vertical-align: middle;\n",
       "    }\n",
       "\n",
       "    .dataframe tbody tr th {\n",
       "        vertical-align: top;\n",
       "    }\n",
       "\n",
       "    .dataframe thead th {\n",
       "        text-align: right;\n",
       "    }\n",
       "</style>\n",
       "<table border=\"1\" class=\"dataframe\">\n",
       "  <thead>\n",
       "    <tr style=\"text-align: right;\">\n",
       "      <th></th>\n",
       "      <th>col</th>\n",
       "      <th>count_froms</th>\n",
       "      <th>count_joins</th>\n",
       "    </tr>\n",
       "  </thead>\n",
       "  <tbody>\n",
       "    <tr>\n",
       "      <th>0</th>\n",
       "      <td>tbl_100371</td>\n",
       "      <td>4.0</td>\n",
       "      <td>0.0</td>\n",
       "    </tr>\n",
       "    <tr>\n",
       "      <th>1</th>\n",
       "      <td>tbl_100498</td>\n",
       "      <td>2.0</td>\n",
       "      <td>0.0</td>\n",
       "    </tr>\n",
       "    <tr>\n",
       "      <th>2</th>\n",
       "      <td>tbl_100584</td>\n",
       "      <td>2.0</td>\n",
       "      <td>11.0</td>\n",
       "    </tr>\n",
       "    <tr>\n",
       "      <th>3</th>\n",
       "      <td>tbl_100776</td>\n",
       "      <td>1.0</td>\n",
       "      <td>0.0</td>\n",
       "    </tr>\n",
       "    <tr>\n",
       "      <th>4</th>\n",
       "      <td>tbl_10080</td>\n",
       "      <td>8.0</td>\n",
       "      <td>13.0</td>\n",
       "    </tr>\n",
       "  </tbody>\n",
       "</table>\n",
       "</div>"
      ],
      "text/plain": [
       "          col  count_froms  count_joins\n",
       "0  tbl_100371          4.0          0.0\n",
       "1  tbl_100498          2.0          0.0\n",
       "2  tbl_100584          2.0         11.0\n",
       "3  tbl_100776          1.0          0.0\n",
       "4   tbl_10080          8.0         13.0"
      ]
     },
     "execution_count": 149,
     "metadata": {},
     "output_type": "execute_result"
    }
   ],
   "source": [
    "df1 = merge_df(df1,df3)\n",
    "df1.head()"
   ]
  },
  {
   "cell_type": "markdown",
   "id": "677d8989",
   "metadata": {},
   "source": [
    "**Делаем дф с кол-ом into**"
   ]
  },
  {
   "cell_type": "code",
   "execution_count": 161,
   "id": "a12088f3",
   "metadata": {},
   "outputs": [],
   "source": [
    "df2.count_intos = df2.count_intos + 1"
   ]
  },
  {
   "cell_type": "code",
   "execution_count": 176,
   "id": "3e34c9b0",
   "metadata": {},
   "outputs": [
    {
     "data": {
      "text/html": [
       "<div>\n",
       "<style scoped>\n",
       "    .dataframe tbody tr th:only-of-type {\n",
       "        vertical-align: middle;\n",
       "    }\n",
       "\n",
       "    .dataframe tbody tr th {\n",
       "        vertical-align: top;\n",
       "    }\n",
       "\n",
       "    .dataframe thead th {\n",
       "        text-align: right;\n",
       "    }\n",
       "</style>\n",
       "<table border=\"1\" class=\"dataframe\">\n",
       "  <thead>\n",
       "    <tr style=\"text-align: right;\">\n",
       "      <th></th>\n",
       "      <th>col</th>\n",
       "      <th>count_froms</th>\n",
       "      <th>count_joins</th>\n",
       "      <th>count_intos</th>\n",
       "      <th>usefull</th>\n",
       "    </tr>\n",
       "  </thead>\n",
       "  <tbody>\n",
       "    <tr>\n",
       "      <th>0</th>\n",
       "      <td>tbl_100371</td>\n",
       "      <td>4.0</td>\n",
       "      <td>0.0</td>\n",
       "      <td>1.0</td>\n",
       "      <td>0.250</td>\n",
       "    </tr>\n",
       "    <tr>\n",
       "      <th>1</th>\n",
       "      <td>tbl_100498</td>\n",
       "      <td>2.0</td>\n",
       "      <td>0.0</td>\n",
       "      <td>1.0</td>\n",
       "      <td>0.500</td>\n",
       "    </tr>\n",
       "    <tr>\n",
       "      <th>2</th>\n",
       "      <td>tbl_100584</td>\n",
       "      <td>2.0</td>\n",
       "      <td>11.0</td>\n",
       "      <td>11.0</td>\n",
       "      <td>5.500</td>\n",
       "    </tr>\n",
       "    <tr>\n",
       "      <th>3</th>\n",
       "      <td>tbl_100776</td>\n",
       "      <td>1.0</td>\n",
       "      <td>0.0</td>\n",
       "      <td>1.0</td>\n",
       "      <td>1.000</td>\n",
       "    </tr>\n",
       "    <tr>\n",
       "      <th>4</th>\n",
       "      <td>tbl_10080</td>\n",
       "      <td>8.0</td>\n",
       "      <td>13.0</td>\n",
       "      <td>1.0</td>\n",
       "      <td>0.125</td>\n",
       "    </tr>\n",
       "  </tbody>\n",
       "</table>\n",
       "</div>"
      ],
      "text/plain": [
       "          col  count_froms  count_joins  count_intos  usefull\n",
       "0  tbl_100371          4.0          0.0          1.0    0.250\n",
       "1  tbl_100498          2.0          0.0          1.0    0.500\n",
       "2  tbl_100584          2.0         11.0         11.0    5.500\n",
       "3  tbl_100776          1.0          0.0          1.0    1.000\n",
       "4   tbl_10080          8.0         13.0          1.0    0.125"
      ]
     },
     "execution_count": 176,
     "metadata": {},
     "output_type": "execute_result"
    }
   ],
   "source": [
    "df2 = create_df(intos_tbs, 'count_intos')\n",
    "df = merge_df(df1,df2)\n",
    "df.count_intos = df.count_intos + 1\n",
    "df['usefull'] = df['count_intos'] / df['count_froms']\n",
    "df.fillna(0, inplace=True)\n",
    "df.head()"
   ]
  },
  {
   "cell_type": "code",
   "execution_count": 179,
   "id": "0f9ec0f0",
   "metadata": {},
   "outputs": [],
   "source": [
    "pd.set_option('mode.use_inf_as_na', True) #включаем опцию, где inf (бесконечность) считаем как NaN\n",
    "#предлагаю удалить"
   ]
  },
  {
   "cell_type": "code",
   "execution_count": 178,
   "id": "e84b437b",
   "metadata": {},
   "outputs": [
    {
     "data": {
      "text/html": [
       "<div>\n",
       "<style scoped>\n",
       "    .dataframe tbody tr th:only-of-type {\n",
       "        vertical-align: middle;\n",
       "    }\n",
       "\n",
       "    .dataframe tbody tr th {\n",
       "        vertical-align: top;\n",
       "    }\n",
       "\n",
       "    .dataframe thead th {\n",
       "        text-align: right;\n",
       "    }\n",
       "</style>\n",
       "<table border=\"1\" class=\"dataframe\">\n",
       "  <thead>\n",
       "    <tr style=\"text-align: right;\">\n",
       "      <th></th>\n",
       "      <th>col</th>\n",
       "      <th>count_froms</th>\n",
       "      <th>count_joins</th>\n",
       "      <th>count_intos</th>\n",
       "      <th>usefull</th>\n",
       "    </tr>\n",
       "  </thead>\n",
       "  <tbody>\n",
       "    <tr>\n",
       "      <th>1463</th>\n",
       "      <td>tbl_211513</td>\n",
       "      <td>8.0</td>\n",
       "      <td>1.0</td>\n",
       "      <td>9594.0</td>\n",
       "      <td>1199.250000</td>\n",
       "    </tr>\n",
       "    <tr>\n",
       "      <th>1692</th>\n",
       "      <td>tbl_29455</td>\n",
       "      <td>1.0</td>\n",
       "      <td>1595.0</td>\n",
       "      <td>471.0</td>\n",
       "      <td>471.000000</td>\n",
       "    </tr>\n",
       "    <tr>\n",
       "      <th>1636</th>\n",
       "      <td>tbl_26776</td>\n",
       "      <td>1.0</td>\n",
       "      <td>3083.0</td>\n",
       "      <td>469.0</td>\n",
       "      <td>469.000000</td>\n",
       "    </tr>\n",
       "    <tr>\n",
       "      <th>1644</th>\n",
       "      <td>tbl_27182</td>\n",
       "      <td>1.0</td>\n",
       "      <td>8208.0</td>\n",
       "      <td>465.0</td>\n",
       "      <td>465.000000</td>\n",
       "    </tr>\n",
       "    <tr>\n",
       "      <th>1462</th>\n",
       "      <td>tbl_211512</td>\n",
       "      <td>21.0</td>\n",
       "      <td>0.0</td>\n",
       "      <td>3139.0</td>\n",
       "      <td>149.476190</td>\n",
       "    </tr>\n",
       "    <tr>\n",
       "      <th>652</th>\n",
       "      <td>tbl_15647</td>\n",
       "      <td>2.0</td>\n",
       "      <td>0.0</td>\n",
       "      <td>203.0</td>\n",
       "      <td>101.500000</td>\n",
       "    </tr>\n",
       "    <tr>\n",
       "      <th>1919</th>\n",
       "      <td>tbl_44933</td>\n",
       "      <td>10.0</td>\n",
       "      <td>0.0</td>\n",
       "      <td>881.0</td>\n",
       "      <td>88.100000</td>\n",
       "    </tr>\n",
       "    <tr>\n",
       "      <th>1520</th>\n",
       "      <td>tbl_23594</td>\n",
       "      <td>1.0</td>\n",
       "      <td>0.0</td>\n",
       "      <td>54.0</td>\n",
       "      <td>54.000000</td>\n",
       "    </tr>\n",
       "    <tr>\n",
       "      <th>1466</th>\n",
       "      <td>tbl_211522</td>\n",
       "      <td>32.0</td>\n",
       "      <td>0.0</td>\n",
       "      <td>1171.0</td>\n",
       "      <td>36.593750</td>\n",
       "    </tr>\n",
       "    <tr>\n",
       "      <th>1548</th>\n",
       "      <td>tbl_23770</td>\n",
       "      <td>12.0</td>\n",
       "      <td>0.0</td>\n",
       "      <td>325.0</td>\n",
       "      <td>27.083333</td>\n",
       "    </tr>\n",
       "  </tbody>\n",
       "</table>\n",
       "</div>"
      ],
      "text/plain": [
       "             col  count_froms  count_joins  count_intos      usefull\n",
       "1463  tbl_211513          8.0          1.0       9594.0  1199.250000\n",
       "1692   tbl_29455          1.0       1595.0        471.0   471.000000\n",
       "1636   tbl_26776          1.0       3083.0        469.0   469.000000\n",
       "1644   tbl_27182          1.0       8208.0        465.0   465.000000\n",
       "1462  tbl_211512         21.0          0.0       3139.0   149.476190\n",
       "652    tbl_15647          2.0          0.0        203.0   101.500000\n",
       "1919   tbl_44933         10.0          0.0        881.0    88.100000\n",
       "1520   tbl_23594          1.0          0.0         54.0    54.000000\n",
       "1466  tbl_211522         32.0          0.0       1171.0    36.593750\n",
       "1548   tbl_23770         12.0          0.0        325.0    27.083333"
      ]
     },
     "execution_count": 178,
     "metadata": {},
     "output_type": "execute_result"
    }
   ],
   "source": [
    "df.sort_values(by = 'usefull', ascending = False, inplace = True)\n",
    "df.head(10)"
   ]
  },
  {
   "cell_type": "code",
   "execution_count": null,
   "id": "78c0a64a",
   "metadata": {},
   "outputs": [],
   "source": []
  }
 ],
 "metadata": {
  "kernelspec": {
   "display_name": "Python 3 (ipykernel)",
   "language": "python",
   "name": "python3"
  },
  "language_info": {
   "codemirror_mode": {
    "name": "ipython",
    "version": 3
   },
   "file_extension": ".py",
   "mimetype": "text/x-python",
   "name": "python",
   "nbconvert_exporter": "python",
   "pygments_lexer": "ipython3",
   "version": "3.9.7"
  }
 },
 "nbformat": 4,
 "nbformat_minor": 5
}
