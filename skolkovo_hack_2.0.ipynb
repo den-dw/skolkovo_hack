{
 "cells": [
  {
   "cell_type": "code",
   "execution_count": 1,
   "id": "7fc010b8",
   "metadata": {},
   "outputs": [],
   "source": [
    "import pandas as pd\n",
    "import regex as re"
   ]
  },
  {
   "cell_type": "code",
   "execution_count": 2,
   "id": "b493e067",
   "metadata": {
    "scrolled": true
   },
   "outputs": [
    {
     "name": "stderr",
     "output_type": "stream",
     "text": [
      "C:\\ProgramData\\Anaconda3\\lib\\site-packages\\IPython\\core\\interactiveshell.py:3165: DtypeWarning: Columns (0) have mixed types.Specify dtype option on import or set low_memory=False.\n",
      "  has_raised = await self.run_ast_nodes(code_ast.body, cell_name,\n"
     ]
    }
   ],
   "source": [
    "data = pd.read_csv(r'C:\\Users\\Seal\\PycharmProjects\\Another notebooks\\log_week_end.csv', names=['rn', 'loguser', 'q'])"
   ]
  },
  {
   "cell_type": "code",
   "execution_count": 3,
   "id": "1b7e49a8",
   "metadata": {},
   "outputs": [
    {
     "data": {
      "text/html": [
       "<div>\n",
       "<style scoped>\n",
       "    .dataframe tbody tr th:only-of-type {\n",
       "        vertical-align: middle;\n",
       "    }\n",
       "\n",
       "    .dataframe tbody tr th {\n",
       "        vertical-align: top;\n",
       "    }\n",
       "\n",
       "    .dataframe thead th {\n",
       "        text-align: right;\n",
       "    }\n",
       "</style>\n",
       "<table border=\"1\" class=\"dataframe\">\n",
       "  <thead>\n",
       "    <tr style=\"text-align: right;\">\n",
       "      <th></th>\n",
       "      <th>rn</th>\n",
       "      <th>loguser</th>\n",
       "      <th>q</th>\n",
       "    </tr>\n",
       "  </thead>\n",
       "  <tbody>\n",
       "    <tr>\n",
       "      <th>335860</th>\n",
       "      <td>321346</td>\n",
       "      <td>etl_2048</td>\n",
       "      <td>from tbl_53613</td>\n",
       "    </tr>\n",
       "    <tr>\n",
       "      <th>16979</th>\n",
       "      <td>538838</td>\n",
       "      <td>etl_528</td>\n",
       "      <td>join tbl_15882,from tbl_317555,from tbl_317555</td>\n",
       "    </tr>\n",
       "    <tr>\n",
       "      <th>105291</th>\n",
       "      <td>726600</td>\n",
       "      <td>etl_2048</td>\n",
       "      <td>from tbl_74885</td>\n",
       "    </tr>\n",
       "    <tr>\n",
       "      <th>489163</th>\n",
       "      <td>845826</td>\n",
       "      <td>etl_1151</td>\n",
       "      <td>from tbl_12145</td>\n",
       "    </tr>\n",
       "    <tr>\n",
       "      <th>366219</th>\n",
       "      <td>265388</td>\n",
       "      <td>etl_1151</td>\n",
       "      <td>from tbl_21615</td>\n",
       "    </tr>\n",
       "  </tbody>\n",
       "</table>\n",
       "</div>"
      ],
      "text/plain": [
       "            rn   loguser                                               q\n",
       "335860  321346  etl_2048                                  from tbl_53613\n",
       "16979   538838   etl_528  join tbl_15882,from tbl_317555,from tbl_317555\n",
       "105291  726600  etl_2048                                  from tbl_74885\n",
       "489163  845826  etl_1151                                  from tbl_12145\n",
       "366219  265388  etl_1151                                  from tbl_21615"
      ]
     },
     "execution_count": 3,
     "metadata": {},
     "output_type": "execute_result"
    }
   ],
   "source": [
    "data.sample(5)"
   ]
  },
  {
   "cell_type": "markdown",
   "id": "df6f5ee7",
   "metadata": {},
   "source": [
    "Собираем в списки все команды"
   ]
  },
  {
   "cell_type": "code",
   "execution_count": 4,
   "id": "e97d617a",
   "metadata": {},
   "outputs": [],
   "source": [
    "intos, froms, joins = [], [], []"
   ]
  },
  {
   "cell_type": "code",
   "execution_count": 5,
   "id": "9464c45f",
   "metadata": {},
   "outputs": [],
   "source": [
    "for x in data.q.str.split(','):\n",
    "    for g in x:\n",
    "        if 'from' in g:\n",
    "            froms.append(g)\n",
    "        if 'join' in g:\n",
    "            joins.append(g)\n",
    "        if 'into' in g:\n",
    "            intos.append(g)"
   ]
  },
  {
   "cell_type": "markdown",
   "id": "423b6ad0",
   "metadata": {},
   "source": [
    "Оставляем только название таблиц"
   ]
  },
  {
   "cell_type": "code",
   "execution_count": 6,
   "id": "5a07e000",
   "metadata": {},
   "outputs": [],
   "source": [
    "intos_tbs = [re.search('tbl_\\d*', x).group(0) for x in intos]\n",
    "froms_tbs = [re.search('tbl_\\d*', x).group(0) for x in froms]\n",
    "joins_tbs = [re.search('tbl_\\d*', x).group(0) for x in joins]"
   ]
  },
  {
   "cell_type": "markdown",
   "id": "5a5fb514",
   "metadata": {},
   "source": [
    "Делаем датафрейм с количество from (from только от пользователей dev) при помощи функции `create_df`"
   ]
  },
  {
   "cell_type": "code",
   "execution_count": 7,
   "id": "76458672",
   "metadata": {},
   "outputs": [],
   "source": [
    "def create_df(input_data, column):\n",
    "    df = pd.DataFrame(data = input_data, columns=['col']).groupby('col').agg({'col': 'count'})\n",
    "    df.columns= [column]\n",
    "    df.reset_index(inplace=True)\n",
    "    return df"
   ]
  },
  {
   "cell_type": "code",
   "execution_count": 8,
   "id": "43a73062",
   "metadata": {},
   "outputs": [],
   "source": [
    "df1 = create_df(froms_tbs, 'count_froms')"
   ]
  },
  {
   "cell_type": "markdown",
   "id": "de48eaba",
   "metadata": {},
   "source": [
    "**Делаем дф с кол-ом join**"
   ]
  },
  {
   "cell_type": "code",
   "execution_count": 9,
   "id": "4128e1b4",
   "metadata": {},
   "outputs": [],
   "source": [
    "df3 = create_df(joins_tbs, 'count_joins')"
   ]
  },
  {
   "cell_type": "markdown",
   "id": "2ac67efb",
   "metadata": {},
   "source": [
    "Объединим join и from при помощи `merge_df`:"
   ]
  },
  {
   "cell_type": "code",
   "execution_count": 10,
   "id": "a25c9c72",
   "metadata": {},
   "outputs": [],
   "source": [
    "def merge_df(data1, data2):\n",
    "    data = data1.merge(data2, on ='col', how='outer')\n",
    "    data = data.fillna(0)\n",
    "    return data"
   ]
  },
  {
   "cell_type": "code",
   "execution_count": 11,
   "id": "0bb3d5ec",
   "metadata": {
    "scrolled": true
   },
   "outputs": [
    {
     "data": {
      "text/html": [
       "<div>\n",
       "<style scoped>\n",
       "    .dataframe tbody tr th:only-of-type {\n",
       "        vertical-align: middle;\n",
       "    }\n",
       "\n",
       "    .dataframe tbody tr th {\n",
       "        vertical-align: top;\n",
       "    }\n",
       "\n",
       "    .dataframe thead th {\n",
       "        text-align: right;\n",
       "    }\n",
       "</style>\n",
       "<table border=\"1\" class=\"dataframe\">\n",
       "  <thead>\n",
       "    <tr style=\"text-align: right;\">\n",
       "      <th></th>\n",
       "      <th>col</th>\n",
       "      <th>count_froms</th>\n",
       "      <th>count_joins</th>\n",
       "      <th>count_selects</th>\n",
       "    </tr>\n",
       "  </thead>\n",
       "  <tbody>\n",
       "    <tr>\n",
       "      <th>0</th>\n",
       "      <td>tbl_10000</td>\n",
       "      <td>24.0</td>\n",
       "      <td>6.0</td>\n",
       "      <td>30.0</td>\n",
       "    </tr>\n",
       "    <tr>\n",
       "      <th>1</th>\n",
       "      <td>tbl_10001</td>\n",
       "      <td>24.0</td>\n",
       "      <td>6.0</td>\n",
       "      <td>30.0</td>\n",
       "    </tr>\n",
       "    <tr>\n",
       "      <th>2</th>\n",
       "      <td>tbl_100026</td>\n",
       "      <td>6.0</td>\n",
       "      <td>0.0</td>\n",
       "      <td>6.0</td>\n",
       "    </tr>\n",
       "    <tr>\n",
       "      <th>3</th>\n",
       "      <td>tbl_100027</td>\n",
       "      <td>6.0</td>\n",
       "      <td>0.0</td>\n",
       "      <td>6.0</td>\n",
       "    </tr>\n",
       "    <tr>\n",
       "      <th>4</th>\n",
       "      <td>tbl_100028</td>\n",
       "      <td>6.0</td>\n",
       "      <td>0.0</td>\n",
       "      <td>6.0</td>\n",
       "    </tr>\n",
       "  </tbody>\n",
       "</table>\n",
       "</div>"
      ],
      "text/plain": [
       "          col  count_froms  count_joins  count_selects\n",
       "0   tbl_10000         24.0          6.0           30.0\n",
       "1   tbl_10001         24.0          6.0           30.0\n",
       "2  tbl_100026          6.0          0.0            6.0\n",
       "3  tbl_100027          6.0          0.0            6.0\n",
       "4  tbl_100028          6.0          0.0            6.0"
      ]
     },
     "execution_count": 11,
     "metadata": {},
     "output_type": "execute_result"
    }
   ],
   "source": [
    "df1 = merge_df(df1,df3)\n",
    "df1['count_selects'] = df1['count_froms'] + df1['count_joins']\n",
    "df1.head()"
   ]
  },
  {
   "cell_type": "markdown",
   "id": "677d8989",
   "metadata": {},
   "source": [
    "**Делаем дф с кол-ом into**"
   ]
  },
  {
   "cell_type": "code",
   "execution_count": 12,
   "id": "3e34c9b0",
   "metadata": {},
   "outputs": [
    {
     "data": {
      "text/html": [
       "<div>\n",
       "<style scoped>\n",
       "    .dataframe tbody tr th:only-of-type {\n",
       "        vertical-align: middle;\n",
       "    }\n",
       "\n",
       "    .dataframe tbody tr th {\n",
       "        vertical-align: top;\n",
       "    }\n",
       "\n",
       "    .dataframe thead th {\n",
       "        text-align: right;\n",
       "    }\n",
       "</style>\n",
       "<table border=\"1\" class=\"dataframe\">\n",
       "  <thead>\n",
       "    <tr style=\"text-align: right;\">\n",
       "      <th></th>\n",
       "      <th>col</th>\n",
       "      <th>count_froms</th>\n",
       "      <th>count_joins</th>\n",
       "      <th>count_selects</th>\n",
       "      <th>count_intos</th>\n",
       "      <th>usefull</th>\n",
       "    </tr>\n",
       "  </thead>\n",
       "  <tbody>\n",
       "    <tr>\n",
       "      <th>0</th>\n",
       "      <td>tbl_10000</td>\n",
       "      <td>24.0</td>\n",
       "      <td>6.0</td>\n",
       "      <td>30.0</td>\n",
       "      <td>12.0</td>\n",
       "      <td>0.4</td>\n",
       "    </tr>\n",
       "    <tr>\n",
       "      <th>1</th>\n",
       "      <td>tbl_10001</td>\n",
       "      <td>24.0</td>\n",
       "      <td>6.0</td>\n",
       "      <td>30.0</td>\n",
       "      <td>12.0</td>\n",
       "      <td>0.4</td>\n",
       "    </tr>\n",
       "    <tr>\n",
       "      <th>2</th>\n",
       "      <td>tbl_100026</td>\n",
       "      <td>6.0</td>\n",
       "      <td>0.0</td>\n",
       "      <td>6.0</td>\n",
       "      <td>6.0</td>\n",
       "      <td>1.0</td>\n",
       "    </tr>\n",
       "    <tr>\n",
       "      <th>3</th>\n",
       "      <td>tbl_100027</td>\n",
       "      <td>6.0</td>\n",
       "      <td>0.0</td>\n",
       "      <td>6.0</td>\n",
       "      <td>6.0</td>\n",
       "      <td>1.0</td>\n",
       "    </tr>\n",
       "    <tr>\n",
       "      <th>4</th>\n",
       "      <td>tbl_100028</td>\n",
       "      <td>6.0</td>\n",
       "      <td>0.0</td>\n",
       "      <td>6.0</td>\n",
       "      <td>6.0</td>\n",
       "      <td>1.0</td>\n",
       "    </tr>\n",
       "  </tbody>\n",
       "</table>\n",
       "</div>"
      ],
      "text/plain": [
       "          col  count_froms  count_joins  count_selects  count_intos  usefull\n",
       "0   tbl_10000         24.0          6.0           30.0         12.0      0.4\n",
       "1   tbl_10001         24.0          6.0           30.0         12.0      0.4\n",
       "2  tbl_100026          6.0          0.0            6.0          6.0      1.0\n",
       "3  tbl_100027          6.0          0.0            6.0          6.0      1.0\n",
       "4  tbl_100028          6.0          0.0            6.0          6.0      1.0"
      ]
     },
     "execution_count": 12,
     "metadata": {},
     "output_type": "execute_result"
    }
   ],
   "source": [
    "df2 = create_df(intos_tbs, 'count_intos')\n",
    "df = merge_df(df1,df2)\n",
    "df['usefull'] = df['count_intos'] / df['count_selects']\n",
    "df.head()"
   ]
  },
  {
   "cell_type": "code",
   "execution_count": 13,
   "id": "0f9ec0f0",
   "metadata": {},
   "outputs": [],
   "source": [
    "pd.set_option('mode.use_inf_as_na', True) #включаем опцию, где inf (бесконечность) считаем как NaN"
   ]
  },
  {
   "cell_type": "code",
   "execution_count": 16,
   "id": "e84b437b",
   "metadata": {},
   "outputs": [
    {
     "data": {
      "text/html": [
       "<div>\n",
       "<style scoped>\n",
       "    .dataframe tbody tr th:only-of-type {\n",
       "        vertical-align: middle;\n",
       "    }\n",
       "\n",
       "    .dataframe tbody tr th {\n",
       "        vertical-align: top;\n",
       "    }\n",
       "\n",
       "    .dataframe thead th {\n",
       "        text-align: right;\n",
       "    }\n",
       "</style>\n",
       "<table border=\"1\" class=\"dataframe\">\n",
       "  <thead>\n",
       "    <tr style=\"text-align: right;\">\n",
       "      <th></th>\n",
       "      <th>col</th>\n",
       "      <th>count_froms</th>\n",
       "      <th>count_joins</th>\n",
       "      <th>count_selects</th>\n",
       "      <th>count_intos</th>\n",
       "      <th>usefull</th>\n",
       "    </tr>\n",
       "  </thead>\n",
       "  <tbody>\n",
       "    <tr>\n",
       "      <th>9680</th>\n",
       "      <td>tbl_156562</td>\n",
       "      <td>24.0</td>\n",
       "      <td>0.0</td>\n",
       "      <td>24.0</td>\n",
       "      <td>6.0</td>\n",
       "      <td>0.25</td>\n",
       "    </tr>\n",
       "    <tr>\n",
       "      <th>25116</th>\n",
       "      <td>tbl_45774</td>\n",
       "      <td>1.0</td>\n",
       "      <td>0.0</td>\n",
       "      <td>1.0</td>\n",
       "      <td>1.0</td>\n",
       "      <td>1.00</td>\n",
       "    </tr>\n",
       "    <tr>\n",
       "      <th>18711</th>\n",
       "      <td>tbl_211502</td>\n",
       "      <td>2.0</td>\n",
       "      <td>0.0</td>\n",
       "      <td>2.0</td>\n",
       "      <td>1.0</td>\n",
       "      <td>0.50</td>\n",
       "    </tr>\n",
       "    <tr>\n",
       "      <th>15627</th>\n",
       "      <td>tbl_195522</td>\n",
       "      <td>24.0</td>\n",
       "      <td>6.0</td>\n",
       "      <td>30.0</td>\n",
       "      <td>0.0</td>\n",
       "      <td>0.00</td>\n",
       "    </tr>\n",
       "    <tr>\n",
       "      <th>21697</th>\n",
       "      <td>tbl_31280</td>\n",
       "      <td>1.0</td>\n",
       "      <td>0.0</td>\n",
       "      <td>1.0</td>\n",
       "      <td>1.0</td>\n",
       "      <td>1.00</td>\n",
       "    </tr>\n",
       "    <tr>\n",
       "      <th>25720</th>\n",
       "      <td>tbl_49291</td>\n",
       "      <td>12.0</td>\n",
       "      <td>0.0</td>\n",
       "      <td>12.0</td>\n",
       "      <td>6.0</td>\n",
       "      <td>0.50</td>\n",
       "    </tr>\n",
       "    <tr>\n",
       "      <th>11164</th>\n",
       "      <td>tbl_165468</td>\n",
       "      <td>6.0</td>\n",
       "      <td>0.0</td>\n",
       "      <td>6.0</td>\n",
       "      <td>0.0</td>\n",
       "      <td>0.00</td>\n",
       "    </tr>\n",
       "    <tr>\n",
       "      <th>18158</th>\n",
       "      <td>tbl_209286</td>\n",
       "      <td>5.0</td>\n",
       "      <td>0.0</td>\n",
       "      <td>5.0</td>\n",
       "      <td>0.0</td>\n",
       "      <td>0.00</td>\n",
       "    </tr>\n",
       "    <tr>\n",
       "      <th>7007</th>\n",
       "      <td>tbl_140256</td>\n",
       "      <td>10.0</td>\n",
       "      <td>0.0</td>\n",
       "      <td>10.0</td>\n",
       "      <td>0.0</td>\n",
       "      <td>0.00</td>\n",
       "    </tr>\n",
       "    <tr>\n",
       "      <th>16593</th>\n",
       "      <td>tbl_201648</td>\n",
       "      <td>18.0</td>\n",
       "      <td>6.0</td>\n",
       "      <td>24.0</td>\n",
       "      <td>6.0</td>\n",
       "      <td>0.25</td>\n",
       "    </tr>\n",
       "  </tbody>\n",
       "</table>\n",
       "</div>"
      ],
      "text/plain": [
       "              col  count_froms  count_joins  count_selects  count_intos  \\\n",
       "9680   tbl_156562         24.0          0.0           24.0          6.0   \n",
       "25116   tbl_45774          1.0          0.0            1.0          1.0   \n",
       "18711  tbl_211502          2.0          0.0            2.0          1.0   \n",
       "15627  tbl_195522         24.0          6.0           30.0          0.0   \n",
       "21697   tbl_31280          1.0          0.0            1.0          1.0   \n",
       "25720   tbl_49291         12.0          0.0           12.0          6.0   \n",
       "11164  tbl_165468          6.0          0.0            6.0          0.0   \n",
       "18158  tbl_209286          5.0          0.0            5.0          0.0   \n",
       "7007   tbl_140256         10.0          0.0           10.0          0.0   \n",
       "16593  tbl_201648         18.0          6.0           24.0          6.0   \n",
       "\n",
       "       usefull  \n",
       "9680      0.25  \n",
       "25116     1.00  \n",
       "18711     0.50  \n",
       "15627     0.00  \n",
       "21697     1.00  \n",
       "25720     0.50  \n",
       "11164     0.00  \n",
       "18158     0.00  \n",
       "7007      0.00  \n",
       "16593     0.25  "
      ]
     },
     "execution_count": 16,
     "metadata": {},
     "output_type": "execute_result"
    }
   ],
   "source": [
    "df.sort_values(by = 'usefull', ascending = False, inplace = True)\n",
    "df.sample(10, random_state = 100)"
   ]
  },
  {
   "cell_type": "markdown",
   "id": "525d87ec",
   "metadata": {},
   "source": [
    "# Леша брал в df не head(), a sample(), поэтому образцы у нас разные,конечно. Если это не ошибка и мы действительно будем брать именно образец, предлагаю зафиксировать random_state = 100, к примеру. "
   ]
  },
  {
   "cell_type": "code",
   "execution_count": 19,
   "id": "8c1bd733",
   "metadata": {},
   "outputs": [
    {
     "data": {
      "text/html": [
       "<div>\n",
       "<style scoped>\n",
       "    .dataframe tbody tr th:only-of-type {\n",
       "        vertical-align: middle;\n",
       "    }\n",
       "\n",
       "    .dataframe tbody tr th {\n",
       "        vertical-align: top;\n",
       "    }\n",
       "\n",
       "    .dataframe thead th {\n",
       "        text-align: right;\n",
       "    }\n",
       "</style>\n",
       "<table border=\"1\" class=\"dataframe\">\n",
       "  <thead>\n",
       "    <tr style=\"text-align: right;\">\n",
       "      <th></th>\n",
       "      <th>col</th>\n",
       "      <th>count_froms</th>\n",
       "      <th>count_joins</th>\n",
       "      <th>count_selects</th>\n",
       "      <th>count_intos</th>\n",
       "      <th>usefull</th>\n",
       "    </tr>\n",
       "  </thead>\n",
       "  <tbody>\n",
       "    <tr>\n",
       "      <th>14223</th>\n",
       "      <td>tbl_185730</td>\n",
       "      <td>2.0</td>\n",
       "      <td>0.0</td>\n",
       "      <td>2.0</td>\n",
       "      <td>0.0</td>\n",
       "      <td>0.0</td>\n",
       "    </tr>\n",
       "  </tbody>\n",
       "</table>\n",
       "</div>"
      ],
      "text/plain": [
       "              col  count_froms  count_joins  count_selects  count_intos  \\\n",
       "14223  tbl_185730          2.0          0.0            2.0          0.0   \n",
       "\n",
       "       usefull  \n",
       "14223      0.0  "
      ]
     },
     "execution_count": 19,
     "metadata": {},
     "output_type": "execute_result"
    }
   ],
   "source": [
    "df.query('col == \"tbl_185730\"') #это можно удалить, тут я проверяю, что данные одинаковые"
   ]
  },
  {
   "cell_type": "code",
   "execution_count": 18,
   "id": "63123ba7",
   "metadata": {},
   "outputs": [
    {
     "data": {
      "text/html": [
       "<div>\n",
       "<style scoped>\n",
       "    .dataframe tbody tr th:only-of-type {\n",
       "        vertical-align: middle;\n",
       "    }\n",
       "\n",
       "    .dataframe tbody tr th {\n",
       "        vertical-align: top;\n",
       "    }\n",
       "\n",
       "    .dataframe thead th {\n",
       "        text-align: right;\n",
       "    }\n",
       "</style>\n",
       "<table border=\"1\" class=\"dataframe\">\n",
       "  <thead>\n",
       "    <tr style=\"text-align: right;\">\n",
       "      <th></th>\n",
       "      <th>col</th>\n",
       "      <th>count_froms</th>\n",
       "      <th>count_joins</th>\n",
       "      <th>count_selects</th>\n",
       "      <th>count_intos</th>\n",
       "      <th>usefull</th>\n",
       "    </tr>\n",
       "  </thead>\n",
       "  <tbody>\n",
       "    <tr>\n",
       "      <th>33320</th>\n",
       "      <td>tbl_92829</td>\n",
       "      <td>15.0</td>\n",
       "      <td>10.0</td>\n",
       "      <td>25.0</td>\n",
       "      <td>0.0</td>\n",
       "      <td>0.0</td>\n",
       "    </tr>\n",
       "  </tbody>\n",
       "</table>\n",
       "</div>"
      ],
      "text/plain": [
       "             col  count_froms  count_joins  count_selects  count_intos  \\\n",
       "33320  tbl_92829         15.0         10.0           25.0          0.0   \n",
       "\n",
       "       usefull  \n",
       "33320      0.0  "
      ]
     },
     "execution_count": 18,
     "metadata": {},
     "output_type": "execute_result"
    }
   ],
   "source": [
    "df.query('col == \"tbl_92829\"')"
   ]
  },
  {
   "cell_type": "code",
   "execution_count": null,
   "id": "78c0a64a",
   "metadata": {},
   "outputs": [],
   "source": []
  }
 ],
 "metadata": {
  "kernelspec": {
   "display_name": "Python 3",
   "language": "python",
   "name": "python3"
  },
  "language_info": {
   "codemirror_mode": {
    "name": "ipython",
    "version": 3
   },
   "file_extension": ".py",
   "mimetype": "text/x-python",
   "name": "python",
   "nbconvert_exporter": "python",
   "pygments_lexer": "ipython3",
   "version": "3.8.8"
  }
 },
 "nbformat": 4,
 "nbformat_minor": 5
}
