{
 "cells": [
  {
   "cell_type": "code",
   "execution_count": 1,
   "id": "7fc010b8",
   "metadata": {},
   "outputs": [],
   "source": [
    "import pandas as pd\n",
    "import regex as re"
   ]
  },
  {
   "cell_type": "code",
   "execution_count": 2,
   "id": "b493e067",
   "metadata": {},
   "outputs": [
    {
     "name": "stderr",
     "output_type": "stream",
     "text": [
      "C:\\Users\\123123\\AppData\\Local\\Temp\\ipykernel_3752\\787480926.py:1: DtypeWarning: Columns (0) have mixed types. Specify dtype option on import or set low_memory=False.\n",
      "  data = pd.read_csv('/datasets/log_week_end.csv', names=['rn', 'loguser', 'q'])\n"
     ]
    }
   ],
   "source": [
    "data = pd.read_csv('/datasets/log_week_end.csv', names=['rn', 'loguser', 'q'])"
   ]
  },
  {
   "cell_type": "code",
   "execution_count": 3,
   "id": "1b7e49a8",
   "metadata": {},
   "outputs": [
    {
     "data": {
      "text/html": [
       "<div>\n",
       "<style scoped>\n",
       "    .dataframe tbody tr th:only-of-type {\n",
       "        vertical-align: middle;\n",
       "    }\n",
       "\n",
       "    .dataframe tbody tr th {\n",
       "        vertical-align: top;\n",
       "    }\n",
       "\n",
       "    .dataframe thead th {\n",
       "        text-align: right;\n",
       "    }\n",
       "</style>\n",
       "<table border=\"1\" class=\"dataframe\">\n",
       "  <thead>\n",
       "    <tr style=\"text-align: right;\">\n",
       "      <th></th>\n",
       "      <th>rn</th>\n",
       "      <th>loguser</th>\n",
       "      <th>q</th>\n",
       "    </tr>\n",
       "  </thead>\n",
       "  <tbody>\n",
       "    <tr>\n",
       "      <th>350287</th>\n",
       "      <td>894812</td>\n",
       "      <td>dev_1314</td>\n",
       "      <td>from tbl_254928</td>\n",
       "    </tr>\n",
       "    <tr>\n",
       "      <th>343003</th>\n",
       "      <td>26659</td>\n",
       "      <td>etl_528</td>\n",
       "      <td>from tbl_124365</td>\n",
       "    </tr>\n",
       "    <tr>\n",
       "      <th>520128</th>\n",
       "      <td>189303</td>\n",
       "      <td>etl_1157</td>\n",
       "      <td>JOIN tbl_33595,FROM tbl_33623</td>\n",
       "    </tr>\n",
       "    <tr>\n",
       "      <th>125763</th>\n",
       "      <td>799023</td>\n",
       "      <td>etl_1151</td>\n",
       "      <td>into tbl_55460,from tbl_56769,join tbl_56769,j...</td>\n",
       "    </tr>\n",
       "    <tr>\n",
       "      <th>51841</th>\n",
       "      <td>215464</td>\n",
       "      <td>etl_1151</td>\n",
       "      <td>INTO tbl_17046,join tbl_17046,FROM tbl_17045</td>\n",
       "    </tr>\n",
       "  </tbody>\n",
       "</table>\n",
       "</div>"
      ],
      "text/plain": [
       "            rn   loguser                                                  q\n",
       "350287  894812  dev_1314                                    from tbl_254928\n",
       "343003   26659   etl_528                                    from tbl_124365\n",
       "520128  189303  etl_1157                      JOIN tbl_33595,FROM tbl_33623\n",
       "125763  799023  etl_1151  into tbl_55460,from tbl_56769,join tbl_56769,j...\n",
       "51841   215464  etl_1151       INTO tbl_17046,join tbl_17046,FROM tbl_17045"
      ]
     },
     "execution_count": 3,
     "metadata": {},
     "output_type": "execute_result"
    }
   ],
   "source": [
    "data.sample(5)"
   ]
  },
  {
   "cell_type": "markdown",
   "id": "df6f5ee7",
   "metadata": {},
   "source": [
    "Собираем в списки все команды"
   ]
  },
  {
   "cell_type": "code",
   "execution_count": 4,
   "id": "e97d617a",
   "metadata": {},
   "outputs": [],
   "source": [
    "intos, froms, joins = [], [], []"
   ]
  },
  {
   "cell_type": "code",
   "execution_count": 5,
   "id": "9464c45f",
   "metadata": {},
   "outputs": [],
   "source": [
    "for x in data.q.str.split(','):\n",
    "    for g in x:\n",
    "        if 'from' in g:\n",
    "            froms.append(g)\n",
    "        if 'join' in g:\n",
    "            joins.append(g)\n",
    "        if 'into' in g:\n",
    "            intos.append(g)"
   ]
  },
  {
   "cell_type": "markdown",
   "id": "423b6ad0",
   "metadata": {},
   "source": [
    "Оставляем только название таблиц"
   ]
  },
  {
   "cell_type": "code",
   "execution_count": 6,
   "id": "5a07e000",
   "metadata": {},
   "outputs": [],
   "source": [
    "intos_tbs = [re.search('tbl_\\d*', x).group(0) for x in intos]\n",
    "froms_tbs = [re.search('tbl_\\d*', x).group(0) for x in froms]\n",
    "joins_tbs = [re.search('tbl_\\d*', x).group(0) for x in joins]"
   ]
  },
  {
   "cell_type": "markdown",
   "id": "5a5fb514",
   "metadata": {},
   "source": [
    "Делаем датафрейм с окличество into и from (from только от пользователей dev)"
   ]
  },
  {
   "cell_type": "code",
   "execution_count": 7,
   "id": "e3f44e6b",
   "metadata": {},
   "outputs": [],
   "source": [
    "df1 = pd.DataFrame(data = froms_tbs, columns=['col']).groupby('col').agg({'col': 'count'})\n",
    "df1.columns= ['count_froms']\n",
    "df1.reset_index(inplace=True)"
   ]
  },
  {
   "cell_type": "markdown",
   "id": "de48eaba",
   "metadata": {},
   "source": [
    "**Делаем дф с кол-ом join**"
   ]
  },
  {
   "cell_type": "code",
   "execution_count": 8,
   "id": "00ccb7a3",
   "metadata": {},
   "outputs": [],
   "source": [
    "df3 = pd.DataFrame(data = joins_tbs, columns=['col']).groupby('col').agg({'col': 'count'})\n",
    "df3.columns= ['count_joins']\n",
    "df3.reset_index(inplace=True)"
   ]
  },
  {
   "cell_type": "code",
   "execution_count": 9,
   "id": "a8b74c33",
   "metadata": {},
   "outputs": [
    {
     "data": {
      "text/html": [
       "<div>\n",
       "<style scoped>\n",
       "    .dataframe tbody tr th:only-of-type {\n",
       "        vertical-align: middle;\n",
       "    }\n",
       "\n",
       "    .dataframe tbody tr th {\n",
       "        vertical-align: top;\n",
       "    }\n",
       "\n",
       "    .dataframe thead th {\n",
       "        text-align: right;\n",
       "    }\n",
       "</style>\n",
       "<table border=\"1\" class=\"dataframe\">\n",
       "  <thead>\n",
       "    <tr style=\"text-align: right;\">\n",
       "      <th></th>\n",
       "      <th>col</th>\n",
       "      <th>count_froms</th>\n",
       "      <th>count_joins</th>\n",
       "      <th>count_selects</th>\n",
       "    </tr>\n",
       "  </thead>\n",
       "  <tbody>\n",
       "    <tr>\n",
       "      <th>0</th>\n",
       "      <td>tbl_10000</td>\n",
       "      <td>24.0</td>\n",
       "      <td>6.0</td>\n",
       "      <td>30.0</td>\n",
       "    </tr>\n",
       "    <tr>\n",
       "      <th>1</th>\n",
       "      <td>tbl_10001</td>\n",
       "      <td>24.0</td>\n",
       "      <td>6.0</td>\n",
       "      <td>30.0</td>\n",
       "    </tr>\n",
       "    <tr>\n",
       "      <th>2</th>\n",
       "      <td>tbl_100026</td>\n",
       "      <td>6.0</td>\n",
       "      <td>0.0</td>\n",
       "      <td>6.0</td>\n",
       "    </tr>\n",
       "    <tr>\n",
       "      <th>3</th>\n",
       "      <td>tbl_100027</td>\n",
       "      <td>6.0</td>\n",
       "      <td>0.0</td>\n",
       "      <td>6.0</td>\n",
       "    </tr>\n",
       "    <tr>\n",
       "      <th>4</th>\n",
       "      <td>tbl_100028</td>\n",
       "      <td>6.0</td>\n",
       "      <td>0.0</td>\n",
       "      <td>6.0</td>\n",
       "    </tr>\n",
       "  </tbody>\n",
       "</table>\n",
       "</div>"
      ],
      "text/plain": [
       "          col  count_froms  count_joins  count_selects\n",
       "0   tbl_10000         24.0          6.0           30.0\n",
       "1   tbl_10001         24.0          6.0           30.0\n",
       "2  tbl_100026          6.0          0.0            6.0\n",
       "3  tbl_100027          6.0          0.0            6.0\n",
       "4  tbl_100028          6.0          0.0            6.0"
      ]
     },
     "execution_count": 9,
     "metadata": {},
     "output_type": "execute_result"
    }
   ],
   "source": [
    "# объединим кол-во join и from\n",
    "df1 = df1.merge(df3, on ='col', how='outer')\n",
    "# заменим пропуски на 0\n",
    "df1 = df1.fillna(0)\n",
    "# посчитаем кол-во извлечений\n",
    "df1['count_selects'] = df1['count_froms'] + df1['count_joins']\n",
    "df1.head()"
   ]
  },
  {
   "cell_type": "markdown",
   "id": "677d8989",
   "metadata": {},
   "source": [
    "**Делаем дф с кол-ом into**"
   ]
  },
  {
   "cell_type": "code",
   "execution_count": 10,
   "id": "f955ac1c",
   "metadata": {},
   "outputs": [],
   "source": [
    "df2 = pd.DataFrame(data = intos_tbs, columns=['col']).groupby('col').agg({'col': 'count'})\n",
    "df2.columns= ['count_intos']\n",
    "df2.reset_index(inplace=True)"
   ]
  },
  {
   "cell_type": "code",
   "execution_count": 11,
   "id": "ac9f0b31",
   "metadata": {},
   "outputs": [
    {
     "data": {
      "text/html": [
       "<div>\n",
       "<style scoped>\n",
       "    .dataframe tbody tr th:only-of-type {\n",
       "        vertical-align: middle;\n",
       "    }\n",
       "\n",
       "    .dataframe tbody tr th {\n",
       "        vertical-align: top;\n",
       "    }\n",
       "\n",
       "    .dataframe thead th {\n",
       "        text-align: right;\n",
       "    }\n",
       "</style>\n",
       "<table border=\"1\" class=\"dataframe\">\n",
       "  <thead>\n",
       "    <tr style=\"text-align: right;\">\n",
       "      <th></th>\n",
       "      <th>col</th>\n",
       "      <th>count_froms</th>\n",
       "      <th>count_joins</th>\n",
       "      <th>count_selects</th>\n",
       "      <th>count_intos</th>\n",
       "      <th>usefull</th>\n",
       "    </tr>\n",
       "  </thead>\n",
       "  <tbody>\n",
       "    <tr>\n",
       "      <th>14223</th>\n",
       "      <td>tbl_185730</td>\n",
       "      <td>2.0</td>\n",
       "      <td>0.0</td>\n",
       "      <td>2.0</td>\n",
       "      <td>0.0</td>\n",
       "      <td>0.0</td>\n",
       "    </tr>\n",
       "    <tr>\n",
       "      <th>37823</th>\n",
       "      <td>tbl_12808</td>\n",
       "      <td>0.0</td>\n",
       "      <td>0.0</td>\n",
       "      <td>0.0</td>\n",
       "      <td>1.0</td>\n",
       "      <td>inf</td>\n",
       "    </tr>\n",
       "    <tr>\n",
       "      <th>29168</th>\n",
       "      <td>tbl_76354</td>\n",
       "      <td>1.0</td>\n",
       "      <td>0.0</td>\n",
       "      <td>1.0</td>\n",
       "      <td>1.0</td>\n",
       "      <td>1.0</td>\n",
       "    </tr>\n",
       "    <tr>\n",
       "      <th>38241</th>\n",
       "      <td>tbl_200839</td>\n",
       "      <td>0.0</td>\n",
       "      <td>0.0</td>\n",
       "      <td>0.0</td>\n",
       "      <td>4.0</td>\n",
       "      <td>inf</td>\n",
       "    </tr>\n",
       "    <tr>\n",
       "      <th>33320</th>\n",
       "      <td>tbl_92829</td>\n",
       "      <td>15.0</td>\n",
       "      <td>10.0</td>\n",
       "      <td>25.0</td>\n",
       "      <td>0.0</td>\n",
       "      <td>0.0</td>\n",
       "    </tr>\n",
       "    <tr>\n",
       "      <th>26224</th>\n",
       "      <td>tbl_53475</td>\n",
       "      <td>1.0</td>\n",
       "      <td>0.0</td>\n",
       "      <td>1.0</td>\n",
       "      <td>1.0</td>\n",
       "      <td>1.0</td>\n",
       "    </tr>\n",
       "    <tr>\n",
       "      <th>17883</th>\n",
       "      <td>tbl_208254</td>\n",
       "      <td>8.0</td>\n",
       "      <td>2.0</td>\n",
       "      <td>10.0</td>\n",
       "      <td>0.0</td>\n",
       "      <td>0.0</td>\n",
       "    </tr>\n",
       "    <tr>\n",
       "      <th>37308</th>\n",
       "      <td>tbl_83039</td>\n",
       "      <td>0.0</td>\n",
       "      <td>8.0</td>\n",
       "      <td>8.0</td>\n",
       "      <td>0.0</td>\n",
       "      <td>0.0</td>\n",
       "    </tr>\n",
       "    <tr>\n",
       "      <th>7568</th>\n",
       "      <td>tbl_14419</td>\n",
       "      <td>4.0</td>\n",
       "      <td>1.0</td>\n",
       "      <td>5.0</td>\n",
       "      <td>2.0</td>\n",
       "      <td>0.4</td>\n",
       "    </tr>\n",
       "    <tr>\n",
       "      <th>32368</th>\n",
       "      <td>tbl_89114</td>\n",
       "      <td>20.0</td>\n",
       "      <td>5.0</td>\n",
       "      <td>25.0</td>\n",
       "      <td>0.0</td>\n",
       "      <td>0.0</td>\n",
       "    </tr>\n",
       "  </tbody>\n",
       "</table>\n",
       "</div>"
      ],
      "text/plain": [
       "              col  count_froms  count_joins  count_selects  count_intos  \\\n",
       "14223  tbl_185730          2.0          0.0            2.0          0.0   \n",
       "37823   tbl_12808          0.0          0.0            0.0          1.0   \n",
       "29168   tbl_76354          1.0          0.0            1.0          1.0   \n",
       "38241  tbl_200839          0.0          0.0            0.0          4.0   \n",
       "33320   tbl_92829         15.0         10.0           25.0          0.0   \n",
       "26224   tbl_53475          1.0          0.0            1.0          1.0   \n",
       "17883  tbl_208254          8.0          2.0           10.0          0.0   \n",
       "37308   tbl_83039          0.0          8.0            8.0          0.0   \n",
       "7568    tbl_14419          4.0          1.0            5.0          2.0   \n",
       "32368   tbl_89114         20.0          5.0           25.0          0.0   \n",
       "\n",
       "       usefull  \n",
       "14223      0.0  \n",
       "37823      inf  \n",
       "29168      1.0  \n",
       "38241      inf  \n",
       "33320      0.0  \n",
       "26224      1.0  \n",
       "17883      0.0  \n",
       "37308      0.0  \n",
       "7568       0.4  \n",
       "32368      0.0  "
      ]
     },
     "execution_count": 11,
     "metadata": {},
     "output_type": "execute_result"
    }
   ],
   "source": [
    "# объединяем извлечения и записи\n",
    "df = df1.merge(df2, on ='col', how='outer')\n",
    "# заменим пропуски на 0\n",
    "df = df.fillna(0)\n",
    "# добавляем соотношение записей/извлечений\n",
    "df['usefull'] = df.count_intos / df.count_selects\n",
    "df = df.sort_values(by='usefull', ascending = False)\n",
    "df.sample(10)"
   ]
  },
  {
   "cell_type": "code",
   "execution_count": null,
   "id": "76458672",
   "metadata": {},
   "outputs": [],
   "source": []
  }
 ],
 "metadata": {
  "kernelspec": {
   "display_name": "Python 3 (ipykernel)",
   "language": "python",
   "name": "python3"
  },
  "language_info": {
   "codemirror_mode": {
    "name": "ipython",
    "version": 3
   },
   "file_extension": ".py",
   "mimetype": "text/x-python",
   "name": "python",
   "nbconvert_exporter": "python",
   "pygments_lexer": "ipython3",
   "version": "3.9.12"
  }
 },
 "nbformat": 4,
 "nbformat_minor": 5
}
