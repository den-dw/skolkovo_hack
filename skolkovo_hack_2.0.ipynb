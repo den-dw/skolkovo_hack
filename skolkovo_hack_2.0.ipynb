{
 "cells": [
  {
   "cell_type": "code",
   "execution_count": 1,
   "id": "7fc010b8",
   "metadata": {},
   "outputs": [],
   "source": [
    "import pandas as pd\n",
    "import regex as re\n",
    "import matplotlib.pyplot as plt"
   ]
  },
  {
   "cell_type": "code",
   "execution_count": 2,
   "id": "b493e067",
   "metadata": {
    "scrolled": true
   },
   "outputs": [],
   "source": [
    "data = pd.read_csv('log_week_end.csv')\n",
    "data.rename(columns={'query': 'q'}, inplace=True)"
   ]
  },
  {
   "cell_type": "code",
   "execution_count": 3,
   "id": "1b7e49a8",
   "metadata": {},
   "outputs": [
    {
     "data": {
      "text/html": [
       "<div>\n",
       "<style scoped>\n",
       "    .dataframe tbody tr th:only-of-type {\n",
       "        vertical-align: middle;\n",
       "    }\n",
       "\n",
       "    .dataframe tbody tr th {\n",
       "        vertical-align: top;\n",
       "    }\n",
       "\n",
       "    .dataframe thead th {\n",
       "        text-align: right;\n",
       "    }\n",
       "</style>\n",
       "<table border=\"1\" class=\"dataframe\">\n",
       "  <thead>\n",
       "    <tr style=\"text-align: right;\">\n",
       "      <th></th>\n",
       "      <th>rn</th>\n",
       "      <th>loguser</th>\n",
       "      <th>q</th>\n",
       "    </tr>\n",
       "  </thead>\n",
       "  <tbody>\n",
       "    <tr>\n",
       "      <th>447965</th>\n",
       "      <td>108552</td>\n",
       "      <td>etl_1151</td>\n",
       "      <td>JOIN tbl_8333,JOIN tbl_9859,JOIN tbl_9859,JOIN...</td>\n",
       "    </tr>\n",
       "    <tr>\n",
       "      <th>259687</th>\n",
       "      <td>536001</td>\n",
       "      <td>etl_1151</td>\n",
       "      <td>from tbl_20695</td>\n",
       "    </tr>\n",
       "    <tr>\n",
       "      <th>493550</th>\n",
       "      <td>335451</td>\n",
       "      <td>etl_528</td>\n",
       "      <td>from tbl_178547</td>\n",
       "    </tr>\n",
       "    <tr>\n",
       "      <th>463352</th>\n",
       "      <td>370734</td>\n",
       "      <td>etl_2048</td>\n",
       "      <td>from tbl_102114</td>\n",
       "    </tr>\n",
       "    <tr>\n",
       "      <th>332247</th>\n",
       "      <td>940102</td>\n",
       "      <td>dev_332</td>\n",
       "      <td>from tbl_33185,from tbl_33186,into tbl_33186</td>\n",
       "    </tr>\n",
       "  </tbody>\n",
       "</table>\n",
       "</div>"
      ],
      "text/plain": [
       "            rn   loguser                                                  q\n",
       "447965  108552  etl_1151  JOIN tbl_8333,JOIN tbl_9859,JOIN tbl_9859,JOIN...\n",
       "259687  536001  etl_1151                                     from tbl_20695\n",
       "493550  335451   etl_528                                    from tbl_178547\n",
       "463352  370734  etl_2048                                    from tbl_102114\n",
       "332247  940102   dev_332       from tbl_33185,from tbl_33186,into tbl_33186"
      ]
     },
     "execution_count": 3,
     "metadata": {},
     "output_type": "execute_result"
    }
   ],
   "source": [
    "data.sample(5)"
   ]
  },
  {
   "cell_type": "code",
   "execution_count": 4,
   "id": "c3457b42",
   "metadata": {},
   "outputs": [],
   "source": [
    "data_copy = data.copy()"
   ]
  },
  {
   "cell_type": "code",
   "execution_count": 5,
   "id": "5ce1d9af",
   "metadata": {},
   "outputs": [],
   "source": [
    "data.q = data.q.str.lower().str.split(',')"
   ]
  },
  {
   "cell_type": "markdown",
   "id": "df6f5ee7",
   "metadata": {},
   "source": [
    "Собираем в списки все команды"
   ]
  },
  {
   "cell_type": "code",
   "execution_count": 6,
   "id": "e97d617a",
   "metadata": {},
   "outputs": [],
   "source": [
    "intos, froms, joins = [], [], []"
   ]
  },
  {
   "cell_type": "code",
   "execution_count": 7,
   "id": "5e2e1db3",
   "metadata": {
    "scrolled": true
   },
   "outputs": [
    {
     "data": {
      "text/plain": [
       "\"\\nвыглядит карисивее но выполняется в 42 раза медленне, чем вариант ниже\\n%%time\\nfor index, row in data.iterrows():\\n    for x in row.q:\\n        if 'from' in x:\\n            froms.append(x)\\n        if 'into' in x:\\n            intos.append(x)\\n        if 'join' in x:\\n            joins.append(x)\\n\""
      ]
     },
     "execution_count": 7,
     "metadata": {},
     "output_type": "execute_result"
    }
   ],
   "source": [
    "'''\n",
    "выглядит карисивее но выполняется в 42 раза медленне, чем вариант ниже\n",
    "%%time\n",
    "for index, row in data.iterrows():\n",
    "    for x in row.q:\n",
    "        if 'from' in x:\n",
    "            froms.append(x)\n",
    "        if 'into' in x:\n",
    "            intos.append(x)\n",
    "        if 'join' in x:\n",
    "            joins.append(x)\n",
    "'''"
   ]
  },
  {
   "cell_type": "code",
   "execution_count": 8,
   "id": "9464c45f",
   "metadata": {},
   "outputs": [
    {
     "name": "stdout",
     "output_type": "stream",
     "text": [
      "CPU times: total: 766 ms\n",
      "Wall time: 776 ms\n"
     ]
    }
   ],
   "source": [
    "%%time\n",
    "for x in data.q:\n",
    "    for g in x:\n",
    "        if 'join' in g:\n",
    "            joins.append(g)\n",
    "        if 'into' in g:\n",
    "            intos.append(g)\n",
    "            \n",
    "for x in data[data.loguser.str.contains('dev')].q:\n",
    "    for g in x:\n",
    "        if 'from' in g:\n",
    "            froms.append(g)"
   ]
  },
  {
   "cell_type": "markdown",
   "id": "423b6ad0",
   "metadata": {},
   "source": [
    "Оставляем только название таблиц"
   ]
  },
  {
   "cell_type": "code",
   "execution_count": 9,
   "id": "5a07e000",
   "metadata": {},
   "outputs": [],
   "source": [
    "intos_tbs = [re.search('tbl_\\d*', x).group(0) for x in intos]\n",
    "froms_tbs = [re.search('tbl_\\d*', x).group(0) for x in froms]\n",
    "joins_tbs = [re.search('tbl_\\d*', x).group(0) for x in joins]"
   ]
  },
  {
   "cell_type": "markdown",
   "id": "5a5fb514",
   "metadata": {},
   "source": [
    "Делаем датафрейм с количество from (from только от пользователей dev) при помощи функции `create_df`"
   ]
  },
  {
   "cell_type": "code",
   "execution_count": 10,
   "id": "76458672",
   "metadata": {},
   "outputs": [],
   "source": [
    "def create_df(input_data, column):\n",
    "    df = pd.DataFrame(data = input_data, columns=['col']).groupby('col').agg({'col': 'count'})\n",
    "    df.columns= [column]\n",
    "    df.reset_index(inplace=True)\n",
    "    return df"
   ]
  },
  {
   "cell_type": "code",
   "execution_count": 11,
   "id": "43a73062",
   "metadata": {},
   "outputs": [],
   "source": [
    "df1 = create_df(froms_tbs, 'count_froms')"
   ]
  },
  {
   "cell_type": "markdown",
   "id": "de48eaba",
   "metadata": {},
   "source": [
    "**Делаем дф с кол-ом join**"
   ]
  },
  {
   "cell_type": "code",
   "execution_count": 12,
   "id": "4128e1b4",
   "metadata": {},
   "outputs": [],
   "source": [
    "df3 = create_df(joins_tbs, 'count_joins')"
   ]
  },
  {
   "cell_type": "markdown",
   "id": "2ac67efb",
   "metadata": {},
   "source": [
    "Объединим join и from при помощи `merge_df`:"
   ]
  },
  {
   "cell_type": "code",
   "execution_count": 13,
   "id": "a25c9c72",
   "metadata": {},
   "outputs": [],
   "source": [
    "def merge_df(data1, data2):\n",
    "    data = data1.merge(data2, on ='col', how='outer')\n",
    "    data = data.fillna(0)\n",
    "    return data"
   ]
  },
  {
   "cell_type": "code",
   "execution_count": 14,
   "id": "0bb3d5ec",
   "metadata": {
    "scrolled": true
   },
   "outputs": [
    {
     "data": {
      "text/html": [
       "<div>\n",
       "<style scoped>\n",
       "    .dataframe tbody tr th:only-of-type {\n",
       "        vertical-align: middle;\n",
       "    }\n",
       "\n",
       "    .dataframe tbody tr th {\n",
       "        vertical-align: top;\n",
       "    }\n",
       "\n",
       "    .dataframe thead th {\n",
       "        text-align: right;\n",
       "    }\n",
       "</style>\n",
       "<table border=\"1\" class=\"dataframe\">\n",
       "  <thead>\n",
       "    <tr style=\"text-align: right;\">\n",
       "      <th></th>\n",
       "      <th>col</th>\n",
       "      <th>count_froms</th>\n",
       "      <th>count_joins</th>\n",
       "    </tr>\n",
       "  </thead>\n",
       "  <tbody>\n",
       "    <tr>\n",
       "      <th>0</th>\n",
       "      <td>tbl_100371</td>\n",
       "      <td>4.0</td>\n",
       "      <td>0.0</td>\n",
       "    </tr>\n",
       "    <tr>\n",
       "      <th>1</th>\n",
       "      <td>tbl_100498</td>\n",
       "      <td>2.0</td>\n",
       "      <td>0.0</td>\n",
       "    </tr>\n",
       "    <tr>\n",
       "      <th>2</th>\n",
       "      <td>tbl_100584</td>\n",
       "      <td>2.0</td>\n",
       "      <td>11.0</td>\n",
       "    </tr>\n",
       "    <tr>\n",
       "      <th>3</th>\n",
       "      <td>tbl_100776</td>\n",
       "      <td>1.0</td>\n",
       "      <td>0.0</td>\n",
       "    </tr>\n",
       "    <tr>\n",
       "      <th>4</th>\n",
       "      <td>tbl_10080</td>\n",
       "      <td>8.0</td>\n",
       "      <td>13.0</td>\n",
       "    </tr>\n",
       "  </tbody>\n",
       "</table>\n",
       "</div>"
      ],
      "text/plain": [
       "          col  count_froms  count_joins\n",
       "0  tbl_100371          4.0          0.0\n",
       "1  tbl_100498          2.0          0.0\n",
       "2  tbl_100584          2.0         11.0\n",
       "3  tbl_100776          1.0          0.0\n",
       "4   tbl_10080          8.0         13.0"
      ]
     },
     "execution_count": 14,
     "metadata": {},
     "output_type": "execute_result"
    }
   ],
   "source": [
    "df1 = merge_df(df1,df3)\n",
    "df1.head()"
   ]
  },
  {
   "cell_type": "markdown",
   "id": "677d8989",
   "metadata": {},
   "source": [
    "**Делаем дф с кол-ом into**"
   ]
  },
  {
   "cell_type": "code",
   "execution_count": 15,
   "id": "9547a6e7",
   "metadata": {},
   "outputs": [
    {
     "data": {
      "text/html": [
       "<div>\n",
       "<style scoped>\n",
       "    .dataframe tbody tr th:only-of-type {\n",
       "        vertical-align: middle;\n",
       "    }\n",
       "\n",
       "    .dataframe tbody tr th {\n",
       "        vertical-align: top;\n",
       "    }\n",
       "\n",
       "    .dataframe thead th {\n",
       "        text-align: right;\n",
       "    }\n",
       "</style>\n",
       "<table border=\"1\" class=\"dataframe\">\n",
       "  <thead>\n",
       "    <tr style=\"text-align: right;\">\n",
       "      <th></th>\n",
       "      <th>col</th>\n",
       "      <th>count_froms</th>\n",
       "      <th>count_joins</th>\n",
       "      <th>count_intos</th>\n",
       "      <th>useless</th>\n",
       "    </tr>\n",
       "  </thead>\n",
       "  <tbody>\n",
       "    <tr>\n",
       "      <th>0</th>\n",
       "      <td>tbl_100371</td>\n",
       "      <td>4.0</td>\n",
       "      <td>0.0</td>\n",
       "      <td>1.0</td>\n",
       "      <td>0.250</td>\n",
       "    </tr>\n",
       "    <tr>\n",
       "      <th>1</th>\n",
       "      <td>tbl_100498</td>\n",
       "      <td>2.0</td>\n",
       "      <td>0.0</td>\n",
       "      <td>1.0</td>\n",
       "      <td>0.500</td>\n",
       "    </tr>\n",
       "    <tr>\n",
       "      <th>2</th>\n",
       "      <td>tbl_100584</td>\n",
       "      <td>2.0</td>\n",
       "      <td>11.0</td>\n",
       "      <td>11.0</td>\n",
       "      <td>5.500</td>\n",
       "    </tr>\n",
       "    <tr>\n",
       "      <th>3</th>\n",
       "      <td>tbl_100776</td>\n",
       "      <td>1.0</td>\n",
       "      <td>0.0</td>\n",
       "      <td>1.0</td>\n",
       "      <td>1.000</td>\n",
       "    </tr>\n",
       "    <tr>\n",
       "      <th>4</th>\n",
       "      <td>tbl_10080</td>\n",
       "      <td>8.0</td>\n",
       "      <td>13.0</td>\n",
       "      <td>1.0</td>\n",
       "      <td>0.125</td>\n",
       "    </tr>\n",
       "  </tbody>\n",
       "</table>\n",
       "</div>"
      ],
      "text/plain": [
       "          col  count_froms  count_joins  count_intos  useless\n",
       "0  tbl_100371          4.0          0.0          1.0    0.250\n",
       "1  tbl_100498          2.0          0.0          1.0    0.500\n",
       "2  tbl_100584          2.0         11.0         11.0    5.500\n",
       "3  tbl_100776          1.0          0.0          1.0    1.000\n",
       "4   tbl_10080          8.0         13.0          1.0    0.125"
      ]
     },
     "execution_count": 15,
     "metadata": {},
     "output_type": "execute_result"
    }
   ],
   "source": [
    "df2 = create_df(intos_tbs, 'count_intos')\n",
    "df = merge_df(df1,df2)\n",
    "df.count_intos = df.count_intos + 1\n",
    "df['useless'] = df['count_intos'] / df['count_froms']\n",
    "df.fillna(0, inplace=True)\n",
    "df.head()"
   ]
  },
  {
   "cell_type": "code",
   "execution_count": 16,
   "id": "0f9ec0f0",
   "metadata": {},
   "outputs": [],
   "source": [
    "pd.set_option('mode.use_inf_as_na', True) #включаем опцию, где inf (бесконечность) считаем как NaN\n",
    "#предлагаю удалить"
   ]
  },
  {
   "cell_type": "code",
   "execution_count": 17,
   "id": "e84b437b",
   "metadata": {
    "scrolled": true
   },
   "outputs": [
    {
     "data": {
      "text/html": [
       "<div>\n",
       "<style scoped>\n",
       "    .dataframe tbody tr th:only-of-type {\n",
       "        vertical-align: middle;\n",
       "    }\n",
       "\n",
       "    .dataframe tbody tr th {\n",
       "        vertical-align: top;\n",
       "    }\n",
       "\n",
       "    .dataframe thead th {\n",
       "        text-align: right;\n",
       "    }\n",
       "</style>\n",
       "<table border=\"1\" class=\"dataframe\">\n",
       "  <thead>\n",
       "    <tr style=\"text-align: right;\">\n",
       "      <th></th>\n",
       "      <th>col</th>\n",
       "      <th>count_froms</th>\n",
       "      <th>count_joins</th>\n",
       "      <th>count_intos</th>\n",
       "      <th>useless</th>\n",
       "    </tr>\n",
       "  </thead>\n",
       "  <tbody>\n",
       "    <tr>\n",
       "      <th>1463</th>\n",
       "      <td>tbl_211513</td>\n",
       "      <td>8.0</td>\n",
       "      <td>1.0</td>\n",
       "      <td>9594.0</td>\n",
       "      <td>1199.250000</td>\n",
       "    </tr>\n",
       "    <tr>\n",
       "      <th>1692</th>\n",
       "      <td>tbl_29455</td>\n",
       "      <td>1.0</td>\n",
       "      <td>1595.0</td>\n",
       "      <td>471.0</td>\n",
       "      <td>471.000000</td>\n",
       "    </tr>\n",
       "    <tr>\n",
       "      <th>1636</th>\n",
       "      <td>tbl_26776</td>\n",
       "      <td>1.0</td>\n",
       "      <td>3083.0</td>\n",
       "      <td>469.0</td>\n",
       "      <td>469.000000</td>\n",
       "    </tr>\n",
       "    <tr>\n",
       "      <th>1644</th>\n",
       "      <td>tbl_27182</td>\n",
       "      <td>1.0</td>\n",
       "      <td>8208.0</td>\n",
       "      <td>465.0</td>\n",
       "      <td>465.000000</td>\n",
       "    </tr>\n",
       "    <tr>\n",
       "      <th>1462</th>\n",
       "      <td>tbl_211512</td>\n",
       "      <td>21.0</td>\n",
       "      <td>0.0</td>\n",
       "      <td>3139.0</td>\n",
       "      <td>149.476190</td>\n",
       "    </tr>\n",
       "    <tr>\n",
       "      <th>652</th>\n",
       "      <td>tbl_15647</td>\n",
       "      <td>2.0</td>\n",
       "      <td>0.0</td>\n",
       "      <td>203.0</td>\n",
       "      <td>101.500000</td>\n",
       "    </tr>\n",
       "    <tr>\n",
       "      <th>1919</th>\n",
       "      <td>tbl_44933</td>\n",
       "      <td>10.0</td>\n",
       "      <td>0.0</td>\n",
       "      <td>881.0</td>\n",
       "      <td>88.100000</td>\n",
       "    </tr>\n",
       "    <tr>\n",
       "      <th>1520</th>\n",
       "      <td>tbl_23594</td>\n",
       "      <td>1.0</td>\n",
       "      <td>0.0</td>\n",
       "      <td>54.0</td>\n",
       "      <td>54.000000</td>\n",
       "    </tr>\n",
       "    <tr>\n",
       "      <th>1466</th>\n",
       "      <td>tbl_211522</td>\n",
       "      <td>32.0</td>\n",
       "      <td>0.0</td>\n",
       "      <td>1171.0</td>\n",
       "      <td>36.593750</td>\n",
       "    </tr>\n",
       "    <tr>\n",
       "      <th>1548</th>\n",
       "      <td>tbl_23770</td>\n",
       "      <td>12.0</td>\n",
       "      <td>0.0</td>\n",
       "      <td>325.0</td>\n",
       "      <td>27.083333</td>\n",
       "    </tr>\n",
       "  </tbody>\n",
       "</table>\n",
       "</div>"
      ],
      "text/plain": [
       "             col  count_froms  count_joins  count_intos      useless\n",
       "1463  tbl_211513          8.0          1.0       9594.0  1199.250000\n",
       "1692   tbl_29455          1.0       1595.0        471.0   471.000000\n",
       "1636   tbl_26776          1.0       3083.0        469.0   469.000000\n",
       "1644   tbl_27182          1.0       8208.0        465.0   465.000000\n",
       "1462  tbl_211512         21.0          0.0       3139.0   149.476190\n",
       "652    tbl_15647          2.0          0.0        203.0   101.500000\n",
       "1919   tbl_44933         10.0          0.0        881.0    88.100000\n",
       "1520   tbl_23594          1.0          0.0         54.0    54.000000\n",
       "1466  tbl_211522         32.0          0.0       1171.0    36.593750\n",
       "1548   tbl_23770         12.0          0.0        325.0    27.083333"
      ]
     },
     "execution_count": 17,
     "metadata": {},
     "output_type": "execute_result"
    }
   ],
   "source": [
    "# ТОП-10 бесполезных таблиц\n",
    "df.sort_values(by = 'useless', ascending = False, inplace = True)\n",
    "df.head(10)"
   ]
  },
  {
   "cell_type": "markdown",
   "id": "d1609599",
   "metadata": {},
   "source": [
    "## Распределение пользователей по кол-ву запросов"
   ]
  },
  {
   "cell_type": "code",
   "execution_count": 18,
   "id": "2282af97",
   "metadata": {},
   "outputs": [
    {
     "name": "stdout",
     "output_type": "stream",
     "text": [
      "<class 'pandas.core.frame.DataFrame'>\n",
      "RangeIndex: 128 entries, 0 to 127\n",
      "Data columns (total 2 columns):\n",
      " #   Column    Non-Null Count  Dtype \n",
      "---  ------    --------------  ----- \n",
      " 0   loguser   128 non-null    object\n",
      " 1   count_rn  128 non-null    int64 \n",
      "dtypes: int64(1), object(1)\n",
      "memory usage: 2.1+ KB\n"
     ]
    }
   ],
   "source": [
    "# сгруппируем по пользователям\n",
    "data_users = data.groupby('loguser').agg({'rn':'nunique'}).sort_values('rn', ascending=False).reset_index()\n",
    "data_users= data_users.rename(columns={'rn':'count_rn'})\n",
    "data_users.info()"
   ]
  },
  {
   "cell_type": "code",
   "execution_count": 19,
   "id": "85dd290a",
   "metadata": {},
   "outputs": [],
   "source": [
    "# разделим пользователей\n",
    "etl_users = data_users[data_users['loguser'].str.startswith('etl')]\n",
    "dev_users = data_users[data_users['loguser'].str.startswith('dev')]"
   ]
  },
  {
   "cell_type": "code",
   "execution_count": 20,
   "id": "114b845d",
   "metadata": {},
   "outputs": [
    {
     "data": {
      "text/plain": [
       "<function matplotlib.pyplot.show(close=None, block=None)>"
      ]
     },
     "execution_count": 20,
     "metadata": {},
     "output_type": "execute_result"
    },
    {
     "data": {
      "image/png": "[encoded data removed]",
      "text/plain": [
       "<Figure size 864x504 with 1 Axes>"
      ]
     },
     "metadata": {
      "needs_background": "light"
     },
     "output_type": "display_data"
    }
   ],
   "source": [
    "# строим график ТОП-10 кол-ва запросов для etl\n",
    "etl_users = pd.pivot_table(etl_users, index='loguser', values='count_rn').sort_values('count_rn', ascending=False).head(10)\n",
    "etl_users.plot(kind='bar', figsize=(12,7), color = 'blue')\n",
    "plt.title('ТОП-10 \"etl\"-пользователей по кол-ву запросов', fontsize=20)\n",
    "plt.xlabel('Логин пользователя', fontsize=12)\n",
    "plt.ylabel('Количество запросов', fontsize=12)\n",
    "plt.show"
   ]
  },
  {
   "cell_type": "code",
   "execution_count": 21,
   "id": "ee86c1d0",
   "metadata": {},
   "outputs": [
    {
     "data": {
      "text/plain": [
       "<function matplotlib.pyplot.show(close=None, block=None)>"
      ]
     },
     "execution_count": 21,
     "metadata": {},
     "output_type": "execute_result"
    },
    {
     "data": {
      "image/png": "[encoded data removed]",
      "text/plain": [
       "<Figure size 864x504 with 1 Axes>"
      ]
     },
     "metadata": {
      "needs_background": "light"
     },
     "output_type": "display_data"
    }
   ],
   "source": [
    "# строим график ТОП-10 кол-ва запросов для dev\n",
    "dev_users = pd.pivot_table(dev_users, index='loguser', values='count_rn').sort_values('count_rn', ascending=False).head(10)\n",
    "dev_users.plot(kind='bar', figsize=(12,7), color = 'blue')\n",
    "plt.title('ТОП-10 \"dev\"-пользователей по кол-ву запросов', fontsize=20)\n",
    "plt.xlabel('Логин пользователя', fontsize=12)\n",
    "plt.ylabel('Количество запросов', fontsize=12)\n",
    "plt.show"
   ]
  },
  {
   "cell_type": "markdown",
   "id": "f137608e",
   "metadata": {},
   "source": [
    "## Распределение по количеству действий в запросе"
   ]
  },
  {
   "cell_type": "code",
   "execution_count": 22,
   "id": "97c22004",
   "metadata": {},
   "outputs": [
    {
     "data": {
      "text/html": [
       "<div>\n",
       "<style scoped>\n",
       "    .dataframe tbody tr th:only-of-type {\n",
       "        vertical-align: middle;\n",
       "    }\n",
       "\n",
       "    .dataframe tbody tr th {\n",
       "        vertical-align: top;\n",
       "    }\n",
       "\n",
       "    .dataframe thead th {\n",
       "        text-align: right;\n",
       "    }\n",
       "</style>\n",
       "<table border=\"1\" class=\"dataframe\">\n",
       "  <thead>\n",
       "    <tr style=\"text-align: right;\">\n",
       "      <th></th>\n",
       "      <th>loguser</th>\n",
       "      <th>count_q</th>\n",
       "    </tr>\n",
       "  </thead>\n",
       "  <tbody>\n",
       "    <tr>\n",
       "      <th>0</th>\n",
       "      <td>etl_1151</td>\n",
       "      <td>805229</td>\n",
       "    </tr>\n",
       "    <tr>\n",
       "      <th>1</th>\n",
       "      <td>etl_2048</td>\n",
       "      <td>433093</td>\n",
       "    </tr>\n",
       "    <tr>\n",
       "      <th>2</th>\n",
       "      <td>dev_332</td>\n",
       "      <td>72042</td>\n",
       "    </tr>\n",
       "    <tr>\n",
       "      <th>3</th>\n",
       "      <td>etl_528</td>\n",
       "      <td>52127</td>\n",
       "    </tr>\n",
       "    <tr>\n",
       "      <th>4</th>\n",
       "      <td>etl_1358</td>\n",
       "      <td>23597</td>\n",
       "    </tr>\n",
       "  </tbody>\n",
       "</table>\n",
       "</div>"
      ],
      "text/plain": [
       "    loguser  count_q\n",
       "0  etl_1151   805229\n",
       "1  etl_2048   433093\n",
       "2   dev_332    72042\n",
       "3   etl_528    52127\n",
       "4  etl_1358    23597"
      ]
     },
     "execution_count": 22,
     "metadata": {},
     "output_type": "execute_result"
    }
   ],
   "source": [
    "# разделим значения в запросах по запятой и сгруппируем по пользователю\n",
    "#data_copy['count_q'] = data_copy['q'].str.split(',').count()\n",
    "data_copy['count_q'] = data_copy['q'].apply(lambda x: x.split(\",\"))\n",
    "data_count_q = data_copy.explode('count_q')\n",
    "df_exp = data_count_q.copy()\n",
    "data_count_q = data_count_q.groupby('loguser').agg({'count_q':'count'}).sort_values('count_q', ascending=False).reset_index()\n",
    "data_count_q.head()"
   ]
  },
  {
   "cell_type": "code",
   "execution_count": 23,
   "id": "4ff6bc0f",
   "metadata": {},
   "outputs": [],
   "source": [
    "# разделим пользователей\n",
    "etl_count_q = data_count_q[data_count_q['loguser'].str.startswith('etl')]\n",
    "dev_count_q = data_count_q[data_count_q['loguser'].str.startswith('dev')]"
   ]
  },
  {
   "cell_type": "code",
   "execution_count": 24,
   "id": "818e7102",
   "metadata": {},
   "outputs": [
    {
     "data": {
      "text/plain": [
       "<function matplotlib.pyplot.show(close=None, block=None)>"
      ]
     },
     "execution_count": 24,
     "metadata": {},
     "output_type": "execute_result"
    },
    {
     "data": {
      "image/png": "[encoded data removed]",
      "text/plain": [
       "<Figure size 864x504 with 1 Axes>"
      ]
     },
     "metadata": {
      "needs_background": "light"
     },
     "output_type": "display_data"
    }
   ],
   "source": [
    "# строим график ТОП-10 кол-ва действий для etl\n",
    "etl_count_q = pd.pivot_table(etl_count_q, index='loguser', values='count_q').sort_values('count_q', ascending=False).head(10)\n",
    "etl_count_q.plot(kind='bar', figsize=(12,7), color = 'blue')\n",
    "plt.title('ТОП-10 \"etl\"-пользователей по количеству действий в запросе', fontsize=20)\n",
    "plt.xlabel('Логин пользователя', fontsize=12)\n",
    "plt.ylabel('Количество запросов', fontsize=12)\n",
    "plt.show"
   ]
  },
  {
   "cell_type": "code",
   "execution_count": 25,
   "id": "56a71142",
   "metadata": {
    "scrolled": false
   },
   "outputs": [
    {
     "data": {
      "text/plain": [
       "<function matplotlib.pyplot.show(close=None, block=None)>"
      ]
     },
     "execution_count": 25,
     "metadata": {},
     "output_type": "execute_result"
    },
    {
     "data": {
      "image/png": "[encoded data removed]",
      "text/plain": [
       "<Figure size 864x504 with 1 Axes>"
      ]
     },
     "metadata": {
      "needs_background": "light"
     },
     "output_type": "display_data"
    }
   ],
   "source": [
    "# строим график ТОП-10 кол-ва действий для dev\n",
    "dev_count_q = pd.pivot_table(dev_count_q, index='loguser', values='count_q').sort_values('count_q', ascending=False).head(10)\n",
    "dev_count_q.plot(kind='bar', figsize=(12,7), color = 'blue')\n",
    "plt.title('ТОП-10 \"dev\"-пользователей по количеству действий в запросе' , fontsize=20)\n",
    "plt.xlabel('Логин пользователя', fontsize=12)\n",
    "plt.ylabel('Количество запросов', fontsize=12)\n",
    "plt.show"
   ]
  },
  {
   "cell_type": "markdown",
   "id": "b13120e7",
   "metadata": {},
   "source": [
    "## Датафрейм - пользователь/таблица/кол-во запросов"
   ]
  },
  {
   "cell_type": "code",
   "execution_count": 26,
   "id": "7d5b0b12",
   "metadata": {},
   "outputs": [],
   "source": [
    "df_exp = df_exp.groupby(['loguser','count_q']).agg({'count_q':'count'}).rename(columns={'count_q':'q'})\n",
    "df_exp = df_exp.reset_index()\n",
    "df_exp['tab'] = [re.search('tbl_\\d*', x).group(0) for x in df_exp['count_q']]\n",
    "df_exp = df_exp[['loguser', 'q', 'tab']]\n",
    "df_exp = df_exp.rename(columns={'q':'count'}).sort_values('count', ascending=False)"
   ]
  },
  {
   "cell_type": "code",
   "execution_count": 27,
   "id": "6c8bbdf3",
   "metadata": {},
   "outputs": [
    {
     "data": {
      "text/html": [
       "<div>\n",
       "<style scoped>\n",
       "    .dataframe tbody tr th:only-of-type {\n",
       "        vertical-align: middle;\n",
       "    }\n",
       "\n",
       "    .dataframe tbody tr th {\n",
       "        vertical-align: top;\n",
       "    }\n",
       "\n",
       "    .dataframe thead th {\n",
       "        text-align: right;\n",
       "    }\n",
       "</style>\n",
       "<table border=\"1\" class=\"dataframe\">\n",
       "  <thead>\n",
       "    <tr style=\"text-align: right;\">\n",
       "      <th></th>\n",
       "      <th>loguser</th>\n",
       "      <th>count</th>\n",
       "      <th>tab</th>\n",
       "    </tr>\n",
       "  </thead>\n",
       "  <tbody>\n",
       "    <tr>\n",
       "      <th>2690</th>\n",
       "      <td>dev_332</td>\n",
       "      <td>27247</td>\n",
       "      <td>tbl_7207</td>\n",
       "    </tr>\n",
       "    <tr>\n",
       "      <th>2611</th>\n",
       "      <td>dev_332</td>\n",
       "      <td>27242</td>\n",
       "      <td>tbl_11022</td>\n",
       "    </tr>\n",
       "    <tr>\n",
       "      <th>60963</th>\n",
       "      <td>etl_1358</td>\n",
       "      <td>11262</td>\n",
       "      <td>tbl_33595</td>\n",
       "    </tr>\n",
       "    <tr>\n",
       "      <th>60958</th>\n",
       "      <td>etl_1358</td>\n",
       "      <td>11256</td>\n",
       "      <td>tbl_33623</td>\n",
       "    </tr>\n",
       "    <tr>\n",
       "      <th>1272</th>\n",
       "      <td>dev_1586</td>\n",
       "      <td>9593</td>\n",
       "      <td>tbl_211513</td>\n",
       "    </tr>\n",
       "  </tbody>\n",
       "</table>\n",
       "</div>"
      ],
      "text/plain": [
       "        loguser  count         tab\n",
       "2690    dev_332  27247    tbl_7207\n",
       "2611    dev_332  27242   tbl_11022\n",
       "60963  etl_1358  11262   tbl_33595\n",
       "60958  etl_1358  11256   tbl_33623\n",
       "1272   dev_1586   9593  tbl_211513"
      ]
     },
     "execution_count": 27,
     "metadata": {},
     "output_type": "execute_result"
    }
   ],
   "source": [
    "df_exp.head()"
   ]
  },
  {
   "cell_type": "code",
   "execution_count": null,
   "id": "8f50cad1",
   "metadata": {},
   "outputs": [],
   "source": []
  },
  {
   "cell_type": "code",
   "execution_count": null,
   "id": "79df455a",
   "metadata": {},
   "outputs": [],
   "source": []
  },
  {
   "cell_type": "code",
   "execution_count": null,
   "id": "0d381f58",
   "metadata": {},
   "outputs": [],
   "source": []
  },
  {
   "cell_type": "code",
   "execution_count": null,
   "id": "8a1932b0",
   "metadata": {},
   "outputs": [],
   "source": []
  },
  {
   "cell_type": "code",
   "execution_count": null,
   "id": "7b7e131b",
   "metadata": {},
   "outputs": [],
   "source": []
  },
  {
   "cell_type": "code",
   "execution_count": null,
   "id": "414839b2",
   "metadata": {},
   "outputs": [],
   "source": []
  },
  {
   "cell_type": "code",
   "execution_count": null,
   "id": "146ec084",
   "metadata": {},
   "outputs": [],
   "source": []
  }
 ],
 "metadata": {
  "kernelspec": {
   "display_name": "Python 3 (ipykernel)",
   "language": "python",
   "name": "python3"
  },
  "language_info": {
   "codemirror_mode": {
    "name": "ipython",
    "version": 3
   },
   "file_extension": ".py",
   "mimetype": "text/x-python",
   "name": "python",
   "nbconvert_exporter": "python",
   "pygments_lexer": "ipython3",
   "version": "3.9.12"
  }
 },
 "nbformat": 4,
 "nbformat_minor": 5
}
